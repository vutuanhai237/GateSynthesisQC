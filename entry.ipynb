{
  "cells": [
    {
      "cell_type": "code",
      "execution_count": 2,
      "metadata": {
        "id": "WzrCHrFH9gLo"
      },
      "outputs": [],
      "source": [
        "from qiskit import QuantumCircuit\n",
        "from qiskit.circuit.library import RealAmplitudes, EfficientSU2"
      ]
    },
    {
      "cell_type": "code",
      "execution_count": 3,
      "metadata": {
        "colab": {
          "base_uri": "https://localhost:8080/"
        },
        "id": "Okt--6h29xVi",
        "outputId": "443beb37-1424-4f9b-fbb6-f90e9aa1543c"
      },
      "outputs": [
        {
          "data": {
            "image/png": "[encoded data removed]",
            "text/plain": [
              "<Figure size 621.941x284.278 with 1 Axes>"
            ]
          },
          "execution_count": 3,
          "metadata": {},
          "output_type": "execute_result"
        }
      ],
      "source": [
        "qc = EfficientSU2(3, reps=1, entanglement='linear')\n",
        "qc = qc.decompose()\n",
        "qc.draw(\"mpl\")"
      ]
    },
    {
      "cell_type": "code",
      "execution_count": 4,
      "metadata": {
        "id": "yyEH7zwlK1n7"
      },
      "outputs": [],
      "source": [
        "list_parameter = []\n",
        "\n",
        "for a in qc._data:\n",
        "    list_parameter.append(str(a.operation.params))\n",
        "pos_param = []\n",
        "for param in range(qc.num_parameters):\n",
        "    pos_param.append(list_parameter.index(f'[ParameterVectorElement(θ[{param}])]'))\n"
      ]
    },
    {
      "cell_type": "code",
      "execution_count": 5,
      "metadata": {
        "colab": {
          "base_uri": "https://localhost:8080/"
        },
        "id": "uycO1y3nNkry",
        "outputId": "eaa23bcb-f6c8-49ec-c025-a63f2be8bdb1"
      },
      "outputs": [
        {
          "data": {
            "text/plain": [
              "CircuitInstruction(operation=Instruction(name='ry', num_qubits=1, num_clbits=0, params=[ParameterVectorElement(θ[0])]), qubits=(Qubit(QuantumRegister(3, 'q'), 0),), clbits=())"
            ]
          },
          "execution_count": 5,
          "metadata": {},
          "output_type": "execute_result"
        }
      ],
      "source": [
        "qc._data[0]"
      ]
    },
    {
      "cell_type": "code",
      "execution_count": 7,
      "metadata": {
        "colab": {
          "base_uri": "https://localhost:8080/"
        },
        "id": "Ne28S90yMczj",
        "outputId": "20a36bca-79c4-4c1d-f715-8064685cd910"
      },
      "outputs": [
        {
          "name": "stdout",
          "output_type": "stream",
          "text": [
            "        ┌───┐    ┌──────────┐┌──────────┐     ┌──────────┐┌──────────┐»\n",
            "q_0: ───┤ Y ├────┤ Ry(θ[0]) ├┤ Rz(θ[3]) ├──■──┤ Ry(θ[6]) ├┤ Rz(θ[9]) ├»\n",
            "     ┌──┴───┴───┐├──────────┤└──────────┘┌─┴─┐└──────────┘├──────────┤»\n",
            "q_1: ┤ Ry(θ[1]) ├┤ Rz(θ[4]) ├────────────┤ X ├─────■──────┤ Ry(θ[7]) ├»\n",
            "     ├──────────┤├──────────┤            └───┘   ┌─┴─┐    ├──────────┤»\n",
            "q_2: ┤ Ry(θ[2]) ├┤ Rz(θ[5]) ├────────────────────┤ X ├────┤ Ry(θ[8]) ├»\n",
            "     └──────────┘└──────────┘                    └───┘    └──────────┘»\n",
            "«                  \n",
            "«q_0: ─────────────\n",
            "«     ┌───────────┐\n",
            "«q_1: ┤ Rz(θ[10]) ├\n",
            "«     ├───────────┤\n",
            "«q_2: ┤ Rz(θ[11]) ├\n",
            "«     └───────────┘\n",
            "     ┌──────────┐┌──────────┐                 ┌──────────┐┌──────────┐»\n",
            "q_0: ┤ Ry(θ[0]) ├┤ Rz(θ[3]) ├──────────────■──┤ Ry(θ[6]) ├┤ Rz(θ[9]) ├»\n",
            "     └──┬───┬───┘├──────────┤┌──────────┐┌─┴─┐└──────────┘├──────────┤»\n",
            "q_1: ───┤ Y ├────┤ Ry(θ[1]) ├┤ Rz(θ[4]) ├┤ X ├─────■──────┤ Ry(θ[7]) ├»\n",
            "     ┌──┴───┴───┐├──────────┤└──────────┘└───┘   ┌─┴─┐    ├──────────┤»\n",
            "q_2: ┤ Ry(θ[2]) ├┤ Rz(θ[5]) ├────────────────────┤ X ├────┤ Ry(θ[8]) ├»\n",
            "     └──────────┘└──────────┘                    └───┘    └──────────┘»\n",
            "«                  \n",
            "«q_0: ─────────────\n",
            "«     ┌───────────┐\n",
            "«q_1: ┤ Rz(θ[10]) ├\n",
            "«     ├───────────┤\n",
            "«q_2: ┤ Rz(θ[11]) ├\n",
            "«     └───────────┘\n",
            "     ┌──────────┐┌──────────┐            ┌──────────┐┌──────────┐             \n",
            "q_0: ┤ Ry(θ[0]) ├┤ Rz(θ[3]) ├─────■──────┤ Ry(θ[6]) ├┤ Rz(θ[9]) ├─────────────\n",
            "     ├──────────┤├──────────┤   ┌─┴─┐    └──────────┘├──────────┤┌───────────┐\n",
            "q_1: ┤ Ry(θ[1]) ├┤ Rz(θ[4]) ├───┤ X ├─────────■──────┤ Ry(θ[7]) ├┤ Rz(θ[10]) ├\n",
            "     └──┬───┬───┘├──────────┤┌──┴───┴───┐   ┌─┴─┐    ├──────────┤├───────────┤\n",
            "q_2: ───┤ Y ├────┤ Ry(θ[2]) ├┤ Rz(θ[5]) ├───┤ X ├────┤ Ry(θ[8]) ├┤ Rz(θ[11]) ├\n",
            "        └───┘    └──────────┘└──────────┘   └───┘    └──────────┘└───────────┘\n",
            "     ┌──────────┐   ┌───┐    ┌──────────┐     ┌──────────┐┌──────────┐»\n",
            "q_0: ┤ Ry(θ[0]) ├───┤ Z ├────┤ Rz(θ[3]) ├──■──┤ Ry(θ[6]) ├┤ Rz(θ[9]) ├»\n",
            "     ├──────────┤┌──┴───┴───┐└──────────┘┌─┴─┐└──────────┘├──────────┤»\n",
            "q_1: ┤ Ry(θ[1]) ├┤ Rz(θ[4]) ├────────────┤ X ├─────■──────┤ Ry(θ[7]) ├»\n",
            "     ├──────────┤├──────────┤            └───┘   ┌─┴─┐    ├──────────┤»\n",
            "q_2: ┤ Ry(θ[2]) ├┤ Rz(θ[5]) ├────────────────────┤ X ├────┤ Ry(θ[8]) ├»\n",
            "     └──────────┘└──────────┘                    └───┘    └──────────┘»\n",
            "«                  \n",
            "«q_0: ─────────────\n",
            "«     ┌───────────┐\n",
            "«q_1: ┤ Rz(θ[10]) ├\n",
            "«     ├───────────┤\n",
            "«q_2: ┤ Rz(θ[11]) ├\n",
            "«     └───────────┘\n",
            "     ┌──────────┐┌──────────┐                 ┌──────────┐┌──────────┐»\n",
            "q_0: ┤ Ry(θ[0]) ├┤ Rz(θ[3]) ├──────────────■──┤ Ry(θ[6]) ├┤ Rz(θ[9]) ├»\n",
            "     ├──────────┤└──┬───┬───┘┌──────────┐┌─┴─┐└──────────┘├──────────┤»\n",
            "q_1: ┤ Ry(θ[1]) ├───┤ Z ├────┤ Rz(θ[4]) ├┤ X ├─────■──────┤ Ry(θ[7]) ├»\n",
            "     ├──────────┤┌──┴───┴───┐└──────────┘└───┘   ┌─┴─┐    ├──────────┤»\n",
            "q_2: ┤ Ry(θ[2]) ├┤ Rz(θ[5]) ├────────────────────┤ X ├────┤ Ry(θ[8]) ├»\n",
            "     └──────────┘└──────────┘                    └───┘    └──────────┘»\n",
            "«                  \n",
            "«q_0: ─────────────\n",
            "«     ┌───────────┐\n",
            "«q_1: ┤ Rz(θ[10]) ├\n",
            "«     ├───────────┤\n",
            "«q_2: ┤ Rz(θ[11]) ├\n",
            "«     └───────────┘\n",
            "     ┌──────────┐┌──────────┐            ┌──────────┐┌──────────┐             \n",
            "q_0: ┤ Ry(θ[0]) ├┤ Rz(θ[3]) ├─────■──────┤ Ry(θ[6]) ├┤ Rz(θ[9]) ├─────────────\n",
            "     ├──────────┤├──────────┤   ┌─┴─┐    └──────────┘├──────────┤┌───────────┐\n",
            "q_1: ┤ Ry(θ[1]) ├┤ Rz(θ[4]) ├───┤ X ├─────────■──────┤ Ry(θ[7]) ├┤ Rz(θ[10]) ├\n",
            "     ├──────────┤└──┬───┬───┘┌──┴───┴───┐   ┌─┴─┐    ├──────────┤├───────────┤\n",
            "q_2: ┤ Ry(θ[2]) ├───┤ Z ├────┤ Rz(θ[5]) ├───┤ X ├────┤ Ry(θ[8]) ├┤ Rz(θ[11]) ├\n",
            "     └──────────┘   └───┘    └──────────┘   └───┘    └──────────┘└───────────┘\n",
            "     ┌──────────┐┌──────────┐     ┌───┐┌──────────┐ ┌──────────┐\n",
            "q_0: ┤ Ry(θ[0]) ├┤ Rz(θ[3]) ├──■──┤ Y ├┤ Ry(θ[6]) ├─┤ Rz(θ[9]) ├\n",
            "     ├──────────┤├──────────┤┌─┴─┐└───┘├──────────┤┌┴──────────┤\n",
            "q_1: ┤ Ry(θ[1]) ├┤ Rz(θ[4]) ├┤ X ├──■──┤ Ry(θ[7]) ├┤ Rz(θ[10]) ├\n",
            "     ├──────────┤├──────────┤└───┘┌─┴─┐├──────────┤├───────────┤\n",
            "q_2: ┤ Ry(θ[2]) ├┤ Rz(θ[5]) ├─────┤ X ├┤ Ry(θ[8]) ├┤ Rz(θ[11]) ├\n",
            "     └──────────┘└──────────┘     └───┘└──────────┘└───────────┘\n",
            "     ┌──────────┐┌──────────┐     ┌──────────┐┌──────────┐             »\n",
            "q_0: ┤ Ry(θ[0]) ├┤ Rz(θ[3]) ├──■──┤ Ry(θ[6]) ├┤ Rz(θ[9]) ├─────────────»\n",
            "     ├──────────┤├──────────┤┌─┴─┐└──────────┘└──┬───┬───┘ ┌──────────┐»\n",
            "q_1: ┤ Ry(θ[1]) ├┤ Rz(θ[4]) ├┤ X ├─────■─────────┤ Y ├─────┤ Ry(θ[7]) ├»\n",
            "     ├──────────┤├──────────┤└───┘   ┌─┴─┐    ┌──┴───┴───┐┌┴──────────┤»\n",
            "q_2: ┤ Ry(θ[2]) ├┤ Rz(θ[5]) ├────────┤ X ├────┤ Ry(θ[8]) ├┤ Rz(θ[11]) ├»\n",
            "     └──────────┘└──────────┘        └───┘    └──────────┘└───────────┘»\n",
            "«                  \n",
            "«q_0: ─────────────\n",
            "«     ┌───────────┐\n",
            "«q_1: ┤ Rz(θ[10]) ├\n",
            "«     └───────────┘\n",
            "«q_2: ─────────────\n",
            "«                  \n",
            "     ┌──────────┐┌──────────┐     ┌──────────┐┌──────────┐             »\n",
            "q_0: ┤ Ry(θ[0]) ├┤ Rz(θ[3]) ├──■──┤ Ry(θ[6]) ├┤ Rz(θ[9]) ├─────────────»\n",
            "     ├──────────┤├──────────┤┌─┴─┐└──────────┘├──────────┤┌───────────┐»\n",
            "q_1: ┤ Ry(θ[1]) ├┤ Rz(θ[4]) ├┤ X ├─────■──────┤ Ry(θ[7]) ├┤ Rz(θ[10]) ├»\n",
            "     ├──────────┤├──────────┤└───┘   ┌─┴─┐    └──┬───┬───┘└┬──────────┤»\n",
            "q_2: ┤ Ry(θ[2]) ├┤ Rz(θ[5]) ├────────┤ X ├───────┤ Y ├─────┤ Ry(θ[8]) ├»\n",
            "     └──────────┘└──────────┘        └───┘       └───┘     └──────────┘»\n",
            "«                  \n",
            "«q_0: ─────────────\n",
            "«                  \n",
            "«q_1: ─────────────\n",
            "«     ┌───────────┐\n",
            "«q_2: ┤ Rz(θ[11]) ├\n",
            "«     └───────────┘\n",
            "     ┌──────────┐┌──────────┐     ┌──────────┐   ┌───┐     ┌──────────┐\n",
            "q_0: ┤ Ry(θ[0]) ├┤ Rz(θ[3]) ├──■──┤ Ry(θ[6]) ├───┤ Z ├─────┤ Rz(θ[9]) ├\n",
            "     ├──────────┤├──────────┤┌─┴─┐└──────────┘┌──┴───┴───┐┌┴──────────┤\n",
            "q_1: ┤ Ry(θ[1]) ├┤ Rz(θ[4]) ├┤ X ├─────■──────┤ Ry(θ[7]) ├┤ Rz(θ[10]) ├\n",
            "     ├──────────┤├──────────┤└───┘   ┌─┴─┐    ├──────────┤├───────────┤\n",
            "q_2: ┤ Ry(θ[2]) ├┤ Rz(θ[5]) ├────────┤ X ├────┤ Ry(θ[8]) ├┤ Rz(θ[11]) ├\n",
            "     └──────────┘└──────────┘        └───┘    └──────────┘└───────────┘\n",
            "     ┌──────────┐┌──────────┐     ┌──────────┐┌──────────┐             »\n",
            "q_0: ┤ Ry(θ[0]) ├┤ Rz(θ[3]) ├──■──┤ Ry(θ[6]) ├┤ Rz(θ[9]) ├─────────────»\n",
            "     ├──────────┤├──────────┤┌─┴─┐└──────────┘├──────────┤    ┌───┐    »\n",
            "q_1: ┤ Ry(θ[1]) ├┤ Rz(θ[4]) ├┤ X ├─────■──────┤ Ry(θ[7]) ├────┤ Z ├────»\n",
            "     ├──────────┤├──────────┤└───┘   ┌─┴─┐    ├──────────┤┌───┴───┴───┐»\n",
            "q_2: ┤ Ry(θ[2]) ├┤ Rz(θ[5]) ├────────┤ X ├────┤ Ry(θ[8]) ├┤ Rz(θ[11]) ├»\n",
            "     └──────────┘└──────────┘        └───┘    └──────────┘└───────────┘»\n",
            "«                  \n",
            "«q_0: ─────────────\n",
            "«     ┌───────────┐\n",
            "«q_1: ┤ Rz(θ[10]) ├\n",
            "«     └───────────┘\n",
            "«q_2: ─────────────\n",
            "«                  \n",
            "     ┌──────────┐┌──────────┐     ┌──────────┐┌──────────┐             »\n",
            "q_0: ┤ Ry(θ[0]) ├┤ Rz(θ[3]) ├──■──┤ Ry(θ[6]) ├┤ Rz(θ[9]) ├─────────────»\n",
            "     ├──────────┤├──────────┤┌─┴─┐└──────────┘├──────────┤┌───────────┐»\n",
            "q_1: ┤ Ry(θ[1]) ├┤ Rz(θ[4]) ├┤ X ├─────■──────┤ Ry(θ[7]) ├┤ Rz(θ[10]) ├»\n",
            "     ├──────────┤├──────────┤└───┘   ┌─┴─┐    ├──────────┤└───┬───┬───┘»\n",
            "q_2: ┤ Ry(θ[2]) ├┤ Rz(θ[5]) ├────────┤ X ├────┤ Ry(θ[8]) ├────┤ Z ├────»\n",
            "     └──────────┘└──────────┘        └───┘    └──────────┘    └───┘    »\n",
            "«                  \n",
            "«q_0: ─────────────\n",
            "«                  \n",
            "«q_1: ─────────────\n",
            "«     ┌───────────┐\n",
            "«q_2: ┤ Rz(θ[11]) ├\n",
            "«     └───────────┘\n"
          ]
        }
      ],
      "source": [
        "for i in range(qc.num_parameters):\n",
        "\tqc_internal = QuantumCircuit(3)\n",
        "\n",
        "\tif qc[pos_param[i]].operation.name == 'rx':\n",
        "\t\tqc_internal.x(qc._data[pos_param[i]].qubits[0]._index)\n",
        "\tif qc[pos_param[i]].operation.name == 'ry':\n",
        "\t\tqc_internal.y(qc._data[pos_param[i]].qubits[0]._index)\n",
        "\tif qc[pos_param[i]].operation.name == 'rz':\n",
        "\t\tqc_internal.z(qc._data[pos_param[i]].qubits[0]._index)\n",
        "\n",
        "\tqc_copy = qc.copy()\n",
        "\tqc_copy._data[pos_param[i]:pos_param[i]] = qc_internal[:]\n",
        "\tprint(qc_copy)"
      ]
    },
    {
      "cell_type": "code",
      "execution_count": 8,
      "metadata": {
        "id": "YJVCzpywMVv8"
      },
      "outputs": [],
      "source": [
        "import qiskit\n",
        "import typing\n",
        "import numpy as np\n",
        "def loss_new(\n",
        "    u: qiskit.QuantumCircuit,\n",
        "    vdagger: qiskit.QuantumCircuit, # numpy array?\n",
        "    thetass: typing.List[np.ndarray],\n",
        "):\n",
        "\n",
        "    f = (np.abs(np.trace(\n",
        "        qiskit.quantum_info.Operator(u.assign_parameters(thetass)).data.transpose().conjugate() @ \n",
        "        qiskit.quantum_info.Operator(vdagger).data) / 2**u.num_qubits))**2\n",
        "    return 1 - f\n",
        "\n",
        "\n",
        "def derivative_loss_new(\n",
        "    u: qiskit.QuantumCircuit,\n",
        "    vdagger: qiskit.QuantumCircuit, # numpy array ?\n",
        "    thetass: typing.List[np.ndarray],\n",
        ") -> typing.List:\n",
        "\n",
        "    internal_gradient = np.zeros(u.num_parameters)\n",
        "    # Support for the following step\n",
        "    list_parameter = []\n",
        "    for data in u._data:\n",
        "        list_parameter.append(str(data.operation.params))\n",
        "\n",
        "    # Position of parameter gate in quantum circuit\n",
        "    pos_param = []\n",
        "    for param in range(u.num_parameters):\n",
        "        pos_param.append(list_parameter.index(f'[ParameterVectorElement(θ[{param}])]'))\n",
        "\n",
        "    # Update quantum circuit\n",
        "    for i in range(u.num_parameters):\n",
        "        qc_internal = QuantumCircuit(u.num_qubits)\n",
        "\n",
        "        if u[pos_param[i]].operation.name == 'rx':\n",
        "            qc_internal.x(u._data[pos_param[i]].qubits[0]._index)\n",
        "        if u[pos_param[i]].operation.name == 'ry':\n",
        "            qc_internal.y(u._data[pos_param[i]].qubits[0]._index)\n",
        "        if u[pos_param[i]].operation.name == 'rz':\n",
        "            qc_internal.z(u._data[pos_param[i]].qubits[0]._index)\n",
        "\n",
        "        qc_copy = u.copy()\n",
        "        qc_copy._data[pos_param[i]:pos_param[i]] = qc_internal[:]\n",
        "\n",
        "        internal_gradient[i] = 1/4**(u.num_qubits) * np.imag(np.conjugate(np.trace(\n",
        "            qiskit.quantum_info.Operator(qc_copy.assign_parameters(thetass)).data.transpose().conjugate() @ \n",
        "            qiskit.quantum_info.Operator(vdagger).data))\n",
        "                                  * np.trace(qiskit.quantum_info.Operator(u.assign_parameters(thetass)).data.transpose().conjugate() @ \n",
        "                                             qiskit.quantum_info.Operator(vdagger).data))\n",
        "    return internal_gradient\n"
      ]
    },
    {
      "cell_type": "code",
      "execution_count": 41,
      "metadata": {
        "colab": {
          "background_save": true,
          "base_uri": "https://localhost:8080/",
          "height": 312
        },
        "id": "mgzYaLPGMQs6",
        "outputId": "781369ab-0670-43b9-e8b5-5676eebabf13"
      },
      "outputs": [
        {
          "data": {
            "image/png": "[encoded data removed]",
            "text/plain": [
              "<Figure size 705.552x284.278 with 1 Axes>"
            ]
          },
          "execution_count": 41,
          "metadata": {},
          "output_type": "execute_result"
        }
      ],
      "source": [
        "qc = EfficientSU2(3, reps=1, entanglement=\"full\")\n",
        "qc = qc.decompose()\n",
        "qc.draw(\"mpl\")"
      ]
    },
    {
      "cell_type": "code",
      "execution_count": 42,
      "metadata": {
        "id": "cWwipNOTeP9U"
      },
      "outputs": [],
      "source": [
        "\n",
        "\n"
      ]
    },
    {
      "cell_type": "code",
      "execution_count": 43,
      "metadata": {
        "colab": {
          "base_uri": "https://localhost:8080/"
        },
        "id": "n4R-yDUrdOkv",
        "outputId": "a34fe04b-0bed-4a08-dcf3-454d9c105f2f"
      },
      "outputs": [
        {
          "name": "stdout",
          "output_type": "stream",
          "text": [
            "0.914214905623922\n",
            "0.8041325112966158\n",
            "0.8067228576653434\n",
            "0.7650480904282566\n",
            "0.6846541635149523\n",
            "0.682923519815946\n",
            "0.7213916314032589\n",
            "0.7078334569893192\n",
            "0.6685072565363649\n",
            "0.6501338677796997\n",
            "0.6591132758697764\n",
            "0.6756223669115065\n",
            "0.6717092568191865\n",
            "0.65857986844308\n",
            "0.6592554898936365\n",
            "0.6632657585132744\n",
            "0.6595230657887929\n",
            "0.6537557467741719\n",
            "0.6516829493358677\n",
            "0.6510264650563756\n",
            "0.6499704330734246\n",
            "0.6491466239843118\n",
            "0.6484228436406918\n",
            "0.6469690649057098\n",
            "0.6436890339108543\n",
            "0.6401887515269218\n",
            "0.6399352827182059\n",
            "0.6413767958442984\n",
            "0.6414654256854071\n",
            "0.6414328590935081\n",
            "0.6415484099724043\n",
            "0.6399879319955981\n",
            "0.6384225542997429\n",
            "0.6393852199764323\n",
            "0.6407306477725677\n",
            "0.6396427381217427\n",
            "0.6376277066725673\n",
            "0.6371331516070038\n",
            "0.6378072303244173\n",
            "0.6378574124441725\n",
            "0.6370892627106732\n",
            "0.636907564954128\n",
            "0.6371723611568993\n",
            "0.6369127824830961\n",
            "0.6367163711255615\n",
            "0.6370084812551798\n",
            "0.6371072257642072\n",
            "0.6367784173645388\n",
            "0.636437920165424\n",
            "0.6363450242763413\n",
            "0.6363639629806541\n",
            "0.6363230482634321\n",
            "0.6362540286158376\n",
            "0.6361099494109408\n",
            "0.6359616174225011\n",
            "0.6360602858530093\n",
            "0.6361811001552944\n",
            "0.6360717805587491\n",
            "0.6360026437734679\n",
            "0.6360343448647906\n",
            "0.6359880184607913\n",
            "0.6359252641243185\n",
            "0.6359351383271891\n",
            "0.6359215592456057\n",
            "0.6358227495663168\n",
            "0.6358040599630156\n",
            "0.6358729776968166\n",
            "0.635849599582459\n",
            "0.6358032383263805\n",
            "0.6358207424948995\n",
            "0.6358280495089661\n",
            "0.6358093824700045\n",
            "0.6358040760781238\n",
            "0.6357979609926525\n",
            "0.6357699792119168\n",
            "0.6357646404125317\n",
            "0.6357738371863721\n",
            "0.6357571525123965\n",
            "0.6357528420501906\n",
            "0.635759533385203\n",
            "0.6357528293244077\n",
            "0.6357526096119199\n",
            "0.6357578421672333\n",
            "0.6357484189436637\n",
            "0.6357390059990048\n",
            "0.6357464057515884\n",
            "0.6357426790217398\n",
            "0.635731603878438\n",
            "0.6357346768636865\n",
            "0.6357367061347378\n",
            "0.6357330312147165\n",
            "0.6357330412604665\n",
            "0.6357344276318948\n",
            "0.6357317910340256\n",
            "0.6357314918002668\n",
            "0.6357316360658101\n",
            "0.6357292353369965\n",
            "0.6357279087917438\n",
            "0.6357270937705395\n",
            "0.6357277958235058\n",
            "0.6357275073016924\n",
            "0.6357258423224414\n",
            "0.6357263002234452\n",
            "0.6357277576283005\n",
            "0.6357261501428371\n",
            "0.6357253576986097\n",
            "0.6357262048596724\n",
            "0.6357249755466184\n",
            "0.6357246769820313\n",
            "0.6357252742455913\n",
            "0.6357242641189386\n",
            "0.6357240052216901\n",
            "0.6357251125846684\n",
            "0.6357245138977712\n",
            "0.6357239999351958\n",
            "0.6357244048725228\n",
            "0.6357242494387301\n",
            "0.6357239739861644\n",
            "0.6357239267344146\n",
            "0.6357237088114216\n",
            "0.6357237258386159\n",
            "0.6357238357813644\n",
            "0.6357237256867706\n",
            "0.6357236560838433\n",
            "0.6357236385353796\n",
            "0.6357237448516584\n",
            "0.6357236561954147\n",
            "0.6357234606663882\n",
            "0.6357235065295763\n",
            "0.6357235506120374\n",
            "0.6357234396604612\n",
            "0.6357234609195801\n",
            "0.6357234319066866\n",
            "0.6357234441245863\n",
            "0.6357234939114705\n",
            "0.6357234138200412\n",
            "0.6357233738890464\n",
            "0.6357234237352293\n",
            "0.6357233859970884\n",
            "0.6357233654735212\n",
            "0.6357233482313516\n",
            "0.6357233555098875\n",
            "0.6357233816227634\n",
            "0.6357233541003875\n",
            "0.6357233379539139\n",
            "0.635723358182207\n",
            "0.6357233447535346\n",
            "0.635723339639654\n",
            "0.6357233240145808\n",
            "0.6357233207778075\n",
            "0.6357233373468351\n",
            "0.6357233255533261\n",
            "0.6357233158361355\n",
            "0.6357233270014644\n",
            "0.6357233255298157\n",
            "0.6357233210024424\n",
            "0.6357233143541448\n",
            "0.6357233138912667\n",
            "0.6357233173412015\n",
            "0.6357233130505644\n",
            "0.6357233103177933\n",
            "0.6357233110391699\n",
            "0.6357233150219868\n",
            "0.6357233126226645\n",
            "0.6357233076724477\n",
            "0.6357233108996587\n",
            "0.6357233105547797\n",
            "0.6357233073417778\n",
            "0.6357233080078324\n",
            "0.6357233066377579\n",
            "0.6357233088867964\n",
            "0.635723308239648\n",
            "0.635723305626692\n",
            "0.6357233079083289\n",
            "0.6357233075287299\n",
            "0.63572330591842\n",
            "0.6357233059271243\n",
            "0.6357233059812275\n",
            "0.6357233062690899\n",
            "0.6357233057867706\n",
            "0.635723305416698\n",
            "0.6357233059629452\n",
            "0.635723306010832\n",
            "0.6357233053578227\n",
            "0.635723305089668\n",
            "0.6357233055993845\n",
            "0.6357233052524641\n",
            "0.6357233049545885\n",
            "0.6357233051968747\n",
            "0.635723305158232\n",
            "0.6357233052752195\n",
            "0.6357233049417108\n",
            "0.6357233049677273\n",
            "0.6357233051582762\n",
            "0.6357233048587421\n",
            "0.6357233048440676\n",
            "0.6357233048932744\n",
            "0.635723304951211\n",
            "0.6357233048602166\n",
            "0.6357233048084729\n",
            "0.6357233049097035\n",
            "0.6357233048403995\n",
            "0.6357233047955808\n",
            "0.6357233047600739\n",
            "0.6357233048071442\n",
            "0.6357233048012981\n",
            "0.6357233047298181\n",
            "0.6357233047866779\n",
            "0.6357233047878734\n",
            "0.6357233047568868\n",
            "0.635723304738912\n",
            "0.6357233047484933\n",
            "0.6357233047501388\n",
            "0.635723304724026\n",
            "0.6357233047278319\n",
            "0.6357233047372939\n",
            "0.6357233047416928\n",
            "0.6357233047163109\n",
            "0.6357233047269014\n",
            "0.63572330473188\n",
            "0.6357233047112173\n",
            "0.6357233047179223\n",
            "0.6357233047135751\n",
            "0.6357233047205013\n",
            "0.6357233047135171\n",
            "0.6357233047101123\n",
            "0.6357233047197848\n",
            "0.6357233047102155\n",
            "0.6357233047085974\n",
            "0.6357233047099415\n",
            "0.6357233047098085\n"
          ]
        }
      ],
      "source": [
        "def optimize(qc: qiskit.QuantumCircuit):\n",
        "    v_dagger = np.array([[1., 0., 0., 0., 0., 0., 0., 0.],\n",
        "                   [0., 1., 0., 0., 0., 0., 0., 0.],\n",
        "                   [0., 0., 1., 0., 0., 0., 0., 0.],\n",
        "                   [0., 0., 0., 0., 0., 0., 0., 1.],\n",
        "                   [0., 0., 0., 0., 1., 0., 0., 0.],\n",
        "                   [0., 0., 0., 0., 0., 1., 0., 0.],\n",
        "                   [0., 0., 0., 0., 0., 0., 1., 0.],\n",
        "                   [0., 0., 0., 1., 0., 0., 0., 0.]]) + 0j\n",
        "    fidelities = []\n",
        "\talpha = 0.5\n",
        "\tthetass = np.zeros(qc.num_parameters) + np.pi/3\n",
        "\tfidelities.append(loss_new(qc, v_dagger, thetass))\n",
        "\tm_grad = np.zeros(qc.num_parameters)\n",
        "\tv_grad = np.zeros(qc.num_parameters)\n",
        "\n",
        "\tbeta1 = 0.9\n",
        "\tbeta2 = 0.999\n",
        "\tepsilon = 1e-8\n",
        "\n",
        "\tfor iter in range(1000):\n",
        "\t\tinternal_derivative_loss = derivative_loss_new(qc, v_dagger, thetass)\n",
        "\t\t# --- Adam optimizer --- #\n",
        "\t\tm_grad = beta1 * m_grad + (1 - beta1) * internal_derivative_loss\n",
        "\t\tv_grad = beta2 * v_grad + (1 - beta2) * internal_derivative_loss ** 2\n",
        "\t\tmhat = m_grad / (1 - beta1 ** (iter + 1))\n",
        "\t\tvhat = v_grad / (1 - beta2 ** (iter + 1))\n",
        "\t\tthetass += alpha * mhat / (np.sqrt(vhat) + epsilon)\n",
        "\t\t# --- Adam optimizer --- #\n",
        "\t\tfidelities.append(loss_new(qc, v_dagger, thetass))\n",
        "\t\tprint(fidelities[-1])\n",
        "\t\tif np.abs(fidelities[-1] - fidelities[-2]) < 1e-12:\n",
        "\t\t\tbreak\n",
        "\treturn fidelities[-1]\n"
      ]
    },
    {
      "cell_type": "code",
      "execution_count": 44,
      "metadata": {
        "colab": {
          "base_uri": "https://localhost:8080/"
        },
        "id": "Jh1vrx7ok0f-",
        "outputId": "75ae22c1-f24c-4ebd-e01c-cd2b226819b2"
      },
      "outputs": [
        {
          "data": {
            "text/plain": [
              "array([[-3.53550367e-01,  1.69502472e-07,  8.53553944e-01,\n",
              "        -5.38016213e-08,  3.53554999e-01, -6.54042882e-08,\n",
              "         1.46446803e-01,  3.38884976e-08],\n",
              "       [-1.57899558e-07, -8.53553066e-01,  8.18137006e-08,\n",
              "        -3.53552485e-01,  7.02106603e-08,  1.46446187e-01,\n",
              "        -2.22854396e-08, -3.53555254e-01],\n",
              "       [ 1.46449052e-01, -7.02111122e-08, -3.53554067e-01,\n",
              "         2.22857547e-08,  8.53553558e-01, -1.57899339e-07,\n",
              "         3.53551298e-01,  8.18137348e-08],\n",
              "       [ 6.54050455e-08,  3.53556185e-01, -3.38886950e-08,\n",
              "         1.46443938e-01,  1.69502880e-07,  3.53551553e-01,\n",
              "        -5.38016370e-08, -8.53553452e-01],\n",
              "       [ 3.53555254e-01, -6.54045785e-08,  1.46446187e-01,\n",
              "         3.38884668e-08, -3.53552485e-01,  1.69502844e-07,\n",
              "         8.53553066e-01, -5.38017755e-08],\n",
              "       [ 7.02107046e-08,  1.46446803e-01, -2.22853306e-08,\n",
              "        -3.53554999e-01, -1.57900027e-07, -8.53553944e-01,\n",
              "         8.18138138e-08, -3.53550367e-01],\n",
              "       [ 8.53553452e-01, -1.57899694e-07,  3.53551553e-01,\n",
              "         8.18135507e-08,  1.46443938e-01, -7.02101579e-08,\n",
              "        -3.53556185e-01,  2.22852444e-08],\n",
              "       [ 1.69502665e-07,  3.53551298e-01, -5.38012069e-08,\n",
              "        -8.53553558e-01,  6.54040503e-08,  3.53554067e-01,\n",
              "        -3.38883643e-08,  1.46449052e-01]])"
            ]
          },
          "execution_count": 44,
          "metadata": {},
          "output_type": "execute_result"
        }
      ],
      "source": [
        "qiskit.quantum_info.Operator(qc.assign_parameters(thetas)).data.transpose().conjugate().real"
      ]
    },
    {
      "cell_type": "code",
      "execution_count": 37,
      "metadata": {
        "colab": {
          "base_uri": "https://localhost:8080/"
        },
        "id": "xdrrvpchkv6p",
        "outputId": "98236fca-acf0-4c54-e830-37d057203f6f"
      },
      "outputs": [
        {
          "data": {
            "text/plain": [
              "array([[1.+0.j, 0.+0.j, 0.+0.j, 0.+0.j, 0.+0.j, 0.+0.j, 0.+0.j, 0.+0.j],\n",
              "       [0.+0.j, 1.+0.j, 0.+0.j, 0.+0.j, 0.+0.j, 0.+0.j, 0.+0.j, 0.+0.j],\n",
              "       [0.+0.j, 0.+0.j, 1.+0.j, 0.+0.j, 0.+0.j, 0.+0.j, 0.+0.j, 0.+0.j],\n",
              "       [0.+0.j, 0.+0.j, 0.+0.j, 0.+0.j, 0.+0.j, 0.+0.j, 0.+0.j, 1.+0.j],\n",
              "       [0.+0.j, 0.+0.j, 0.+0.j, 0.+0.j, 1.+0.j, 0.+0.j, 0.+0.j, 0.+0.j],\n",
              "       [0.+0.j, 0.+0.j, 0.+0.j, 0.+0.j, 0.+0.j, 1.+0.j, 0.+0.j, 0.+0.j],\n",
              "       [0.+0.j, 0.+0.j, 0.+0.j, 0.+0.j, 0.+0.j, 0.+0.j, 1.+0.j, 0.+0.j],\n",
              "       [0.+0.j, 0.+0.j, 0.+0.j, 1.+0.j, 0.+0.j, 0.+0.j, 0.+0.j, 0.+0.j]])"
            ]
          },
          "execution_count": 37,
          "metadata": {},
          "output_type": "execute_result"
        }
      ],
      "source": [
        "qiskit.quantum_info.Operator(v_dagger).data"
      ]
    },
    {
      "cell_type": "code",
      "execution_count": 45,
      "metadata": {
        "colab": {
          "base_uri": "https://localhost:8080/",
          "height": 312
        },
        "id": "p3LDfdHiH1aC",
        "outputId": "404902d1-605f-4586-ff99-017cdc5a971b"
      },
      "outputs": [
        {
          "data": {
            "image/png": "[encoded data removed]",
            "text/plain": [
              "<Figure size 203.885x284.278 with 1 Axes>"
            ]
          },
          "execution_count": 45,
          "metadata": {},
          "output_type": "execute_result"
        }
      ],
      "source": [
        "toffoli = QuantumCircuit(3)\n",
        "toffoli.ccx(0, 1, 2)\n",
        "toffoli.draw(\"mpl\")"
      ]
    },
    {
      "cell_type": "code",
      "execution_count": 48,
      "metadata": {
        "colab": {
          "base_uri": "https://localhost:8080/"
        },
        "id": "fnB4sqPWf2Zg",
        "outputId": "1b301fc2-69db-42e0-d3e0-53ddd822e3fd"
      },
      "outputs": [
        {
          "data": {
            "text/plain": [
              "0.36427669529019147"
            ]
          },
          "execution_count": 48,
          "metadata": {},
          "output_type": "execute_result"
        }
      ],
      "source": [
        "np.abs(np.trace(qiskit.quantum_info.Operator(qc.assign_parameters(thetas)).data.transpose().conjugate() @ qiskit.quantum_info.Operator(v_dagger).data)  / 2**3)**2"
      ]
    },
    {
      "cell_type": "code",
      "execution_count": 49,
      "metadata": {
        "colab": {
          "base_uri": "https://localhost:8080/",
          "height": 312
        },
        "id": "HQeHB233jMzv",
        "outputId": "dab7c183-f5d1-4eaa-a35d-037cecdc5d9b"
      },
      "outputs": [
        {
          "data": {
            "image/png": "[encoded data removed]",
            "text/plain": [
              "<Figure size 1040x284.278 with 1 Axes>"
            ]
          },
          "execution_count": 49,
          "metadata": {},
          "output_type": "execute_result"
        }
      ],
      "source": [
        "qc.assign_parameters(thetas).draw(\"mpl\")"
      ]
    },
    {
      "cell_type": "code",
      "execution_count": 50,
      "metadata": {
        "colab": {
          "base_uri": "https://localhost:8080/",
          "height": 430
        },
        "id": "sC83y6IcW7Ay",
        "outputId": "b185fd5c-c599-47d8-8ad5-4005c451b0f7"
      },
      "outputs": [
        {
          "data": {
            "image/png": "[encoded data removed]",
            "text/plain": [
              "<Figure size 640x480 with 1 Axes>"
            ]
          },
          "metadata": {},
          "output_type": "display_data"
        }
      ],
      "source": [
        "import matplotlib.pyplot as plt\n",
        "\n",
        "plt.plot(fidelities)\n",
        "plt.yscale('log')\n",
        "plt.show()"
      ]
    },
    {
      "cell_type": "code",
      "execution_count": null,
      "metadata": {
        "colab": {
          "background_save": true,
          "base_uri": "https://localhost:8080/",
          "height": 680
        },
        "id": "qgwbEpUIEIs6",
        "outputId": "7956b6ce-f64a-4711-a32c-73b15c6b4d80"
      },
      "outputs": [
        {
          "name": "stderr",
          "output_type": "stream",
          "text": [
            "/usr/local/lib/python3.10/dist-packages/qiskit/visualization/circuit/matplotlib.py:266: FutureWarning: The default matplotlib drawer scheme will be changed to \"iqp\" in a following release. To silence this warning, specify the current default explicitly as style=\"clifford\", or the new default as style=\"iqp\".\n",
            "  self._style, def_font_ratio = load_style(self._style)\n"
          ]
        },
        {
          "data": {
            "image/png": "[encoded data removed]",
            "text/plain": [
              "<Figure size 203.885x367.889 with 1 Axes>"
            ]
          },
          "execution_count": 13,
          "metadata": {},
          "output_type": "execute_result"
        }
      ],
      "source": [
        "from qiskit import QuantumCircuit\n",
        "from qiskit.circuit.library import XGate\n",
        "\n",
        "toffoli_gate = QuantumCircuit(4)\n",
        "\n",
        "ch_gate = XGate().control(3, ctrl_state=\"11\")\n",
        "\n",
        "toffoli_gate.append(ch_gate, [0, 1, 2, 3])\n",
        "\n",
        "toffoli_gate.draw(\"mpl\")"
      ]
    },
    {
      "cell_type": "code",
      "execution_count": null,
      "metadata": {
        "colab": {
          "base_uri": "https://localhost:8080/"
        },
        "id": "PxIcONIy__Kp",
        "outputId": "e0b487fc-8b19-4384-9de4-97917e8de4d4"
      },
      "outputs": [
        {
          "data": {
            "text/plain": [
              "SparsePauliOp(['III', 'IIX', 'IZI', 'IZX', 'ZII', 'ZIX', 'ZZI', 'ZZX'],\n",
              "              coeffs=[ 0.75+0.j,  0.25+0.j,  0.25+0.j, -0.25+0.j,  0.25+0.j, -0.25+0.j,\n",
              " -0.25+0.j,  0.25+0.j])"
            ]
          },
          "execution_count": 133,
          "metadata": {},
          "output_type": "execute_result"
        }
      ],
      "source": [
        "SparsePauliOp.from_operator(matrix)"
      ]
    },
    {
      "cell_type": "code",
      "execution_count": null,
      "metadata": {
        "id": "gk1odpRcpemU"
      },
      "outputs": [],
      "source": [
        "# diagonolaize matrix\n",
        "eigenvalues, eigenvectors = np.linalg.eig(matrix)"
      ]
    },
    {
      "cell_type": "code",
      "execution_count": null,
      "metadata": {
        "colab": {
          "base_uri": "https://localhost:8080/"
        },
        "id": "FgEMQx9u8JNX",
        "outputId": "7fc76223-1945-40f8-fd0d-3ae3b145125d"
      },
      "outputs": [
        {
          "name": "stdout",
          "output_type": "stream",
          "text": [
            "[[-0.        -0.00000000e+00j -0.        -0.00000000e+00j\n",
            "  -0.        -0.00000000e+00j -0.        -0.00000000e+00j\n",
            "  -0.        -0.00000000e+00j -0.        -0.00000000e+00j\n",
            "  -0.        -0.00000000e+00j -0.        -0.00000000e+00j]\n",
            " [-0.        -0.00000000e+00j -0.        -0.00000000e+00j\n",
            "  -0.        -0.00000000e+00j -0.        -0.00000000e+00j\n",
            "  -0.        -0.00000000e+00j -0.        -0.00000000e+00j\n",
            "  -0.        -0.00000000e+00j -0.        -0.00000000e+00j]\n",
            " [-0.        -0.00000000e+00j -0.        -0.00000000e+00j\n",
            "  -0.        -0.00000000e+00j -0.        -0.00000000e+00j\n",
            "  -0.        -0.00000000e+00j -0.        -0.00000000e+00j\n",
            "  -0.        -0.00000000e+00j -0.        -0.00000000e+00j]\n",
            " [-0.        -0.00000000e+00j -0.        -0.00000000e+00j\n",
            "  -0.        -0.00000000e+00j -1.57079633-2.77555756e-16j\n",
            "  -0.        -0.00000000e+00j -0.        -0.00000000e+00j\n",
            "  -0.        -0.00000000e+00j  1.57079633-1.66533454e-16j]\n",
            " [-0.        -0.00000000e+00j -0.        -0.00000000e+00j\n",
            "  -0.        -0.00000000e+00j -0.        -0.00000000e+00j\n",
            "  -0.        -0.00000000e+00j -0.        -0.00000000e+00j\n",
            "  -0.        -0.00000000e+00j -0.        -0.00000000e+00j]\n",
            " [-0.        -0.00000000e+00j -0.        -0.00000000e+00j\n",
            "  -0.        -0.00000000e+00j -0.        -0.00000000e+00j\n",
            "  -0.        -0.00000000e+00j -0.        -0.00000000e+00j\n",
            "  -0.        -0.00000000e+00j -0.        -0.00000000e+00j]\n",
            " [-0.        -0.00000000e+00j -0.        -0.00000000e+00j\n",
            "  -0.        -0.00000000e+00j -0.        -0.00000000e+00j\n",
            "  -0.        -0.00000000e+00j -0.        -0.00000000e+00j\n",
            "  -0.        -0.00000000e+00j -0.        -0.00000000e+00j]\n",
            " [-0.        -0.00000000e+00j -0.        -0.00000000e+00j\n",
            "  -0.        -0.00000000e+00j  1.57079633-1.66533454e-16j\n",
            "  -0.        -0.00000000e+00j -0.        -0.00000000e+00j\n",
            "  -0.        -0.00000000e+00j -1.57079633-2.77555756e-16j]]\n"
          ]
        }
      ],
      "source": [
        "# transform arbitrary matrix V to e^(-iH) form, transform_matrix equivalents to H in this case\n",
        "transform_matrix = eigenvectors @ np.diag(np.log(eigenvalues + 0j)) @ eigenvectors.transpose().conjugate() / (-1j)\n",
        "print(transform_matrix)"
      ]
    },
    {
      "cell_type": "code",
      "execution_count": null,
      "metadata": {
        "colab": {
          "base_uri": "https://localhost:8080/",
          "height": 366
        },
        "id": "dT0GlSUr5gg6",
        "outputId": "85c9c3b6-4351-4fd9-abec-58cf637fcf6c"
      },
      "outputs": [
        {
          "ename": "ModuleNotFoundError",
          "evalue": "No module named 'spicy'",
          "output_type": "error",
          "traceback": [
            "\u001b[0;31m---------------------------------------------------------------------------\u001b[0m",
            "\u001b[0;31mModuleNotFoundError\u001b[0m                       Traceback (most recent call last)",
            "\u001b[0;32m<ipython-input-5-e314203c9408>\u001b[0m in \u001b[0;36m<cell line: 1>\u001b[0;34m()\u001b[0m\n\u001b[0;32m----> 1\u001b[0;31m \u001b[0;32mimport\u001b[0m \u001b[0mspicy\u001b[0m\u001b[0;34m\u001b[0m\u001b[0;34m\u001b[0m\u001b[0m\n\u001b[0m\u001b[1;32m      2\u001b[0m \u001b[0;31m# compare old matrix (Test if there are any mistakes in coding)\u001b[0m\u001b[0;34m\u001b[0m\u001b[0;34m\u001b[0m\u001b[0m\n\u001b[1;32m      3\u001b[0m \u001b[0mnp\u001b[0m\u001b[0;34m.\u001b[0m\u001b[0mlinalg\u001b[0m\u001b[0;34m.\u001b[0m\u001b[0mnorm\u001b[0m\u001b[0;34m(\u001b[0m\u001b[0mspicy\u001b[0m\u001b[0;34m.\u001b[0m\u001b[0mlinalg\u001b[0m\u001b[0;34m.\u001b[0m\u001b[0mexpm\u001b[0m\u001b[0;34m(\u001b[0m\u001b[0mtransform_matrix\u001b[0m\u001b[0;34m*\u001b[0m\u001b[0;34m(\u001b[0m\u001b[0;34m-\u001b[0m\u001b[0;36m1j\u001b[0m\u001b[0;34m)\u001b[0m\u001b[0;34m)\u001b[0m \u001b[0;34m-\u001b[0m \u001b[0mmatrix\u001b[0m\u001b[0;34m)\u001b[0m\u001b[0;34m\u001b[0m\u001b[0;34m\u001b[0m\u001b[0m\n",
            "\u001b[0;31mModuleNotFoundError\u001b[0m: No module named 'spicy'",
            "",
            "\u001b[0;31m---------------------------------------------------------------------------\u001b[0;32m\nNOTE: If your import is failing due to a missing package, you can\nmanually install dependencies using either !pip or !apt.\n\nTo view examples of installing some common dependencies, click the\n\"Open Examples\" button below.\n\u001b[0;31m---------------------------------------------------------------------------\u001b[0m\n"
          ]
        }
      ],
      "source": [
        "import spicy\n",
        "# compare old matrix (Test if there are any mistakes in coding)\n",
        "np.linalg.norm(spicy.linalg.expm(transform_matrix*(-1j)) - matrix)"
      ]
    },
    {
      "cell_type": "code",
      "execution_count": null,
      "metadata": {
        "colab": {
          "base_uri": "https://localhost:8080/"
        },
        "id": "giKr8TmXs83T",
        "outputId": "41547e54-38a7-4ae3-d336-b7d0abeda6b0"
      },
      "outputs": [
        {
          "name": "stdout",
          "output_type": "stream",
          "text": [
            "SparsePauliOp(['III', 'IIZ', 'IZI', 'IZZ', 'XII', 'XIZ', 'XZI', 'XZZ'],\n",
            "              coeffs=[-0.39269908-6.93889390e-17j,  0.39269908+6.93889390e-17j,\n",
            "  0.39269908+6.93889390e-17j, -0.39269908-6.93889390e-17j,\n",
            "  0.39269908-4.16333634e-17j, -0.39269908+4.16333634e-17j,\n",
            " -0.39269908+4.16333634e-17j,  0.39269908-4.16333634e-17j])\n"
          ]
        }
      ],
      "source": [
        "# Transform H matrix to sum of tensor operators\n",
        "transform_observable = SparsePauliOp.from_operator(transform_matrix)\n",
        "print(transform_observable)"
      ]
    },
    {
      "cell_type": "code",
      "execution_count": null,
      "metadata": {
        "colab": {
          "base_uri": "https://localhost:8080/"
        },
        "id": "FlOL0_hbtlZr",
        "outputId": "ccc1d999-6cbe-413f-bed3-c3e4ac17c93f"
      },
      "outputs": [
        {
          "data": {
            "text/plain": [
              "SparsePauliOp(['IIX', 'IZI', 'IZX', 'ZII', 'ZIX', 'ZZI', 'ZZX'],\n",
              "              coeffs=[  1.        +0.j,   3.14159265+0.j,   9.8696044 +0.j,  31.00627668+0.j,\n",
              "  97.40909103+0.j, 306.01968479+0.j, 961.38919358+0.j])"
            ]
          },
          "execution_count": 35,
          "metadata": {},
          "output_type": "execute_result"
        }
      ],
      "source": [
        "# Use Cartan-decomposition algorithm (Under construction)\n",
        "from Exact_time_evolution import Cartan_decomposition\n",
        "\n",
        "cartan_Hamilton = Cartan_decomposition(transform_observable)\n",
        "\n",
        "cartan_Hamilton.decomposition()"
      ]
    },
    {
      "cell_type": "code",
      "execution_count": null,
      "metadata": {
        "colab": {
          "base_uri": "https://localhost:8080/"
        },
        "id": "VlcwxKiVvKKY",
        "outputId": "e3f2adeb-01b8-43c6-9753-13ece8b3aae4"
      },
      "outputs": [
        {
          "data": {
            "text/plain": [
              "[SparsePauliOp(['IIX'],\n",
              "               coeffs=[1.+0.j]),\n",
              " SparsePauliOp(['IZI'],\n",
              "               coeffs=[1.+0.j]),\n",
              " SparsePauliOp(['IZX'],\n",
              "               coeffs=[1.+0.j]),\n",
              " SparsePauliOp(['ZII'],\n",
              "               coeffs=[1.+0.j]),\n",
              " SparsePauliOp(['ZIX'],\n",
              "               coeffs=[1.+0.j]),\n",
              " SparsePauliOp(['ZZI'],\n",
              "               coeffs=[1.+0.j]),\n",
              " SparsePauliOp(['ZZX'],\n",
              "               coeffs=[1.+0.j])]"
            ]
          },
          "execution_count": 38,
          "metadata": {},
          "output_type": "execute_result"
        }
      ],
      "source": [
        "cartan_Hamilton.Hamiltonian_algebra"
      ]
    },
    {
      "cell_type": "code",
      "execution_count": null,
      "metadata": {
        "colab": {
          "base_uri": "https://localhost:8080/",
          "height": 339
        },
        "id": "j3bOMgVAuPr0",
        "outputId": "be50d164-7909-401f-e101-c6d632ed94c8"
      },
      "outputs": [
        {
          "ename": "IndexError",
          "evalue": "index -1 is out of bounds for axis 0 with size 0",
          "output_type": "error",
          "traceback": [
            "\u001b[0;31m---------------------------------------------------------------------------\u001b[0m",
            "\u001b[0;31mIndexError\u001b[0m                                Traceback (most recent call last)",
            "\u001b[0;32m<ipython-input-36-60d0d47b4ae5>\u001b[0m in \u001b[0;36m<cell line: 8>\u001b[0;34m()\u001b[0m\n\u001b[1;32m      6\u001b[0m \u001b[0mverbose\u001b[0m \u001b[0;34m=\u001b[0m \u001b[0;36m2\u001b[0m\u001b[0;34m\u001b[0m\u001b[0;34m\u001b[0m\u001b[0m\n\u001b[1;32m      7\u001b[0m \u001b[0;34m\u001b[0m\u001b[0m\n\u001b[0;32m----> 8\u001b[0;31m \u001b[0mcartan_Hamilton\u001b[0m\u001b[0;34m.\u001b[0m\u001b[0moptimization\u001b[0m\u001b[0;34m(\u001b[0m\u001b[0minteration\u001b[0m\u001b[0;34m,\u001b[0m \u001b[0minitial_point\u001b[0m\u001b[0;34m,\u001b[0m \u001b[0mlearning_rate\u001b[0m\u001b[0;34m,\u001b[0m \u001b[0mthreshold\u001b[0m\u001b[0;34m,\u001b[0m \u001b[0mverbose\u001b[0m\u001b[0;34m)\u001b[0m\u001b[0;34m\u001b[0m\u001b[0;34m\u001b[0m\u001b[0m\n\u001b[0m",
            "\u001b[0;32m/content/Exact_time_evolution.py\u001b[0m in \u001b[0;36moptimization\u001b[0;34m(self, interation, initial_point, learning_rate, threshold, verbose)\u001b[0m\n\u001b[1;32m    195\u001b[0m \u001b[0;34m\u001b[0m\u001b[0m\n\u001b[1;32m    196\u001b[0m         \u001b[0;32mfor\u001b[0m \u001b[0miter\u001b[0m \u001b[0;32min\u001b[0m \u001b[0mrange\u001b[0m\u001b[0;34m(\u001b[0m\u001b[0minteration\u001b[0m\u001b[0;34m)\u001b[0m\u001b[0;34m:\u001b[0m\u001b[0;34m\u001b[0m\u001b[0;34m\u001b[0m\u001b[0m\n\u001b[0;32m--> 197\u001b[0;31m             \u001b[0mcost_value\u001b[0m \u001b[0;34m=\u001b[0m \u001b[0mself\u001b[0m\u001b[0;34m.\u001b[0m\u001b[0mcost_function\u001b[0m\u001b[0;34m(\u001b[0m\u001b[0minitial_point\u001b[0m\u001b[0;34m,\u001b[0m \u001b[0mself\u001b[0m\u001b[0;34m.\u001b[0m\u001b[0ml_list\u001b[0m\u001b[0;34m,\u001b[0m \u001b[0mself\u001b[0m\u001b[0;34m.\u001b[0m\u001b[0mv_list\u001b[0m\u001b[0;34m,\u001b[0m \u001b[0mself\u001b[0m\u001b[0;34m.\u001b[0m\u001b[0mhamiltonian\u001b[0m\u001b[0;34m)\u001b[0m\u001b[0;34m\u001b[0m\u001b[0;34m\u001b[0m\u001b[0m\n\u001b[0m\u001b[1;32m    198\u001b[0m \u001b[0;34m\u001b[0m\u001b[0m\n\u001b[1;32m    199\u001b[0m \u001b[0;34m\u001b[0m\u001b[0m\n",
            "\u001b[0;32m/content/Exact_time_evolution.py\u001b[0m in \u001b[0;36mcost_function\u001b[0;34m(self, initial_point, l_list, v_list, hamitlonian)\u001b[0m\n\u001b[1;32m    161\u001b[0m     \u001b[0;31m# @staticmethod\u001b[0m\u001b[0;34m\u001b[0m\u001b[0;34m\u001b[0m\u001b[0m\n\u001b[1;32m    162\u001b[0m     \u001b[0;32mdef\u001b[0m \u001b[0mcost_function\u001b[0m\u001b[0;34m(\u001b[0m\u001b[0mself\u001b[0m\u001b[0;34m,\u001b[0m \u001b[0minitial_point\u001b[0m\u001b[0;34m,\u001b[0m \u001b[0ml_list\u001b[0m\u001b[0;34m,\u001b[0m \u001b[0mv_list\u001b[0m\u001b[0;34m,\u001b[0m \u001b[0mhamitlonian\u001b[0m\u001b[0;34m)\u001b[0m\u001b[0;34m:\u001b[0m\u001b[0;34m\u001b[0m\u001b[0;34m\u001b[0m\u001b[0m\n\u001b[0;32m--> 163\u001b[0;31m         \u001b[0mvalue_mo\u001b[0m \u001b[0;34m=\u001b[0m \u001b[0mself\u001b[0m\u001b[0;34m.\u001b[0m\u001b[0mmatrix_mo\u001b[0m\u001b[0;34m(\u001b[0m\u001b[0minitial_point\u001b[0m\u001b[0;34m,\u001b[0m \u001b[0ml_list\u001b[0m\u001b[0;34m,\u001b[0m \u001b[0mv_list\u001b[0m\u001b[0;34m)\u001b[0m\u001b[0;34m\u001b[0m\u001b[0;34m\u001b[0m\u001b[0m\n\u001b[0m\u001b[1;32m    164\u001b[0m         \u001b[0mcost_value\u001b[0m \u001b[0;34m=\u001b[0m \u001b[0mnp\u001b[0m\u001b[0;34m.\u001b[0m\u001b[0mtrace\u001b[0m\u001b[0;34m(\u001b[0m\u001b[0;34m(\u001b[0m\u001b[0mvalue_mo\u001b[0m \u001b[0;34m@\u001b[0m \u001b[0mhamitlonian\u001b[0m\u001b[0;34m)\u001b[0m\u001b[0;34m.\u001b[0m\u001b[0mto_matrix\u001b[0m\u001b[0;34m(\u001b[0m\u001b[0;34m)\u001b[0m\u001b[0;34m)\u001b[0m\u001b[0;34m\u001b[0m\u001b[0;34m\u001b[0m\u001b[0m\n\u001b[1;32m    165\u001b[0m         \u001b[0;32mreturn\u001b[0m \u001b[0mcost_value\u001b[0m\u001b[0;34m\u001b[0m\u001b[0;34m\u001b[0m\u001b[0m\n",
            "\u001b[0;32m/content/Exact_time_evolution.py\u001b[0m in \u001b[0;36mmatrix_mo\u001b[0;34m(initial_point, l_list, v_list)\u001b[0m\n\u001b[1;32m    125\u001b[0m         \u001b[0mI_operator\u001b[0m \u001b[0;34m=\u001b[0m \u001b[0mSparsePauliOp\u001b[0m\u001b[0;34m(\u001b[0m\u001b[0;34m[\u001b[0m\u001b[0;34m'I'\u001b[0m\u001b[0;34m*\u001b[0m\u001b[0mlen\u001b[0m\u001b[0;34m(\u001b[0m\u001b[0mv_list\u001b[0m\u001b[0;34m[\u001b[0m\u001b[0;36m0\u001b[0m\u001b[0;34m]\u001b[0m\u001b[0;34m.\u001b[0m\u001b[0m_pauli_list\u001b[0m\u001b[0;34m[\u001b[0m\u001b[0;36m0\u001b[0m\u001b[0;34m]\u001b[0m\u001b[0;34m)\u001b[0m\u001b[0;34m]\u001b[0m\u001b[0;34m,\u001b[0m \u001b[0mcoeffs\u001b[0m\u001b[0;34m=\u001b[0m\u001b[0;34m[\u001b[0m\u001b[0;36m1.\u001b[0m \u001b[0;34m+\u001b[0m\u001b[0;36m0.j\u001b[0m\u001b[0;34m]\u001b[0m\u001b[0;34m)\u001b[0m\u001b[0;34m\u001b[0m\u001b[0;34m\u001b[0m\u001b[0m\n\u001b[1;32m    126\u001b[0m \u001b[0;34m\u001b[0m\u001b[0m\n\u001b[0;32m--> 127\u001b[0;31m         \u001b[0mvalue_mo\u001b[0m \u001b[0;34m=\u001b[0m \u001b[0;34m(\u001b[0m\u001b[0;34m(\u001b[0m\u001b[0mnp\u001b[0m\u001b[0;34m.\u001b[0m\u001b[0mcos\u001b[0m\u001b[0;34m(\u001b[0m\u001b[0minitial_point\u001b[0m\u001b[0;34m[\u001b[0m\u001b[0;34m-\u001b[0m\u001b[0;36m1\u001b[0m\u001b[0;34m]\u001b[0m\u001b[0;34m)\u001b[0m \u001b[0;34m*\u001b[0m  \u001b[0mI_operator\u001b[0m \u001b[0;34m+\u001b[0m \u001b[0;36m1j\u001b[0m \u001b[0;34m*\u001b[0m \u001b[0mnp\u001b[0m\u001b[0;34m.\u001b[0m\u001b[0msin\u001b[0m\u001b[0;34m(\u001b[0m\u001b[0minitial_point\u001b[0m\u001b[0;34m[\u001b[0m\u001b[0;34m-\u001b[0m\u001b[0;36m1\u001b[0m\u001b[0;34m]\u001b[0m\u001b[0;34m)\u001b[0m \u001b[0;34m*\u001b[0m \u001b[0ml_list\u001b[0m\u001b[0;34m[\u001b[0m\u001b[0;34m-\u001b[0m\u001b[0;36m1\u001b[0m\u001b[0;34m]\u001b[0m\u001b[0;34m)\u001b[0m \u001b[0;34m@\u001b[0m \u001b[0mv_list\u001b[0m \u001b[0;34m@\u001b[0m \u001b[0;34m(\u001b[0m\u001b[0mnp\u001b[0m\u001b[0;34m.\u001b[0m\u001b[0mcos\u001b[0m\u001b[0;34m(\u001b[0m\u001b[0minitial_point\u001b[0m\u001b[0;34m[\u001b[0m\u001b[0;34m-\u001b[0m\u001b[0;36m1\u001b[0m\u001b[0;34m]\u001b[0m\u001b[0;34m)\u001b[0m \u001b[0;34m*\u001b[0m  \u001b[0mI_operator\u001b[0m \u001b[0;34m-\u001b[0m \u001b[0;36m1j\u001b[0m \u001b[0;34m*\u001b[0m \u001b[0mnp\u001b[0m\u001b[0;34m.\u001b[0m\u001b[0msin\u001b[0m\u001b[0;34m(\u001b[0m\u001b[0minitial_point\u001b[0m\u001b[0;34m[\u001b[0m\u001b[0;34m-\u001b[0m\u001b[0;36m1\u001b[0m\u001b[0;34m]\u001b[0m\u001b[0;34m)\u001b[0m \u001b[0;34m*\u001b[0m \u001b[0ml_list\u001b[0m\u001b[0;34m[\u001b[0m\u001b[0;34m-\u001b[0m\u001b[0;36m1\u001b[0m\u001b[0;34m]\u001b[0m\u001b[0;34m)\u001b[0m\u001b[0;34m)\u001b[0m\u001b[0;34m.\u001b[0m\u001b[0msimplify\u001b[0m\u001b[0;34m(\u001b[0m\u001b[0;34m)\u001b[0m\u001b[0;34m\u001b[0m\u001b[0;34m\u001b[0m\u001b[0m\n\u001b[0m\u001b[1;32m    128\u001b[0m \u001b[0;34m\u001b[0m\u001b[0m\n\u001b[1;32m    129\u001b[0m         \u001b[0;32mfor\u001b[0m \u001b[0mindex\u001b[0m\u001b[0;34m,\u001b[0m \u001b[0melement\u001b[0m \u001b[0;32min\u001b[0m \u001b[0menumerate\u001b[0m\u001b[0;34m(\u001b[0m\u001b[0ml_list\u001b[0m\u001b[0;34m)\u001b[0m\u001b[0;34m:\u001b[0m\u001b[0;34m\u001b[0m\u001b[0;34m\u001b[0m\u001b[0m\n",
            "\u001b[0;31mIndexError\u001b[0m: index -1 is out of bounds for axis 0 with size 0"
          ]
        }
      ],
      "source": [
        "interation = 1000\n",
        "\n",
        "initial_point = np.zeros(len(cartan_Hamilton.l_list)) + np.pi/2\n",
        "learning_rate = 0.1\n",
        "threshold = 1e-16\n",
        "verbose = 2\n",
        "\n",
        "cartan_Hamilton.optimization(interation, initial_point, learning_rate, threshold, verbose)\n",
        "### Error due to the commutable feature between operators in Hamiltonian_algebra"
      ]
    },
    {
      "cell_type": "code",
      "execution_count": null,
      "metadata": {
        "colab": {
          "base_uri": "https://localhost:8080/"
        },
        "id": "K_G0NKHUHswu",
        "outputId": "20f026a2-f405-42ad-afde-7213514c078c"
      },
      "outputs": [
        {
          "data": {
            "text/plain": [
              "SparsePauliOp(['IIX', 'IZI', 'IZX', 'ZII', 'ZIX', 'ZZI', 'ZZX'],\n",
              "              coeffs=[ 0.39269908-4.16333634e-17j,  0.39269908+6.93889390e-17j,\n",
              " -0.39269908+4.16333634e-17j,  0.39269908+6.93889390e-17j,\n",
              " -0.39269908+4.16333634e-17j, -0.39269908-6.93889390e-17j,\n",
              "  0.39269908-4.16333634e-17j])"
            ]
          },
          "execution_count": 140,
          "metadata": {},
          "output_type": "execute_result"
        }
      ],
      "source": [
        "(transform_observable - SparsePauliOp(['III'], coeffs=[-0.39269908-6.93889390e-17j])).simplify()"
      ]
    },
    {
      "cell_type": "code",
      "execution_count": null,
      "metadata": {
        "colab": {
          "base_uri": "https://localhost:8080/"
        },
        "id": "VRcvbWkIH878",
        "outputId": "68c228fc-1b13-48d9-c61d-24028f015b3e"
      },
      "outputs": [
        {
          "name": "stdout",
          "output_type": "stream",
          "text": [
            "SparsePauliOp(['IIZ', 'IZI', 'IZZ', 'XII', 'XIZ', 'XZI', 'XZZ'],\n",
            "              coeffs=[ 0.39269908+0.j,  0.39269908+0.j, -0.39269908+0.j,  0.39269908+0.j,\n",
            " -0.39269908+0.j, -0.39269908+0.j,  0.39269908+0.j])\n"
          ]
        }
      ],
      "source": [
        "remove_identity_operator = (transform_observable - SparsePauliOp(['III'], coeffs=[-0.39269908-6.93889390e-17j])).simplify()\n",
        "remove_identity_operator.coeffs = remove_identity_operator.coeffs.real\n",
        "print(remove_identity_operator)"
      ]
    },
    {
      "cell_type": "code",
      "execution_count": null,
      "metadata": {
        "colab": {
          "base_uri": "https://localhost:8080/"
        },
        "id": "hmXUpTigfJJz",
        "outputId": "ea65766c-f1a4-4142-d00d-9a575bc956c2"
      },
      "outputs": [
        {
          "data": {
            "text/plain": [
              "0.39269908169872414"
            ]
          },
          "execution_count": 53,
          "metadata": {},
          "output_type": "execute_result"
        }
      ],
      "source": [
        "np.pi/8"
      ]
    },
    {
      "cell_type": "code",
      "execution_count": null,
      "metadata": {
        "colab": {
          "base_uri": "https://localhost:8080/"
        },
        "id": "r5pFUUHNXwoE",
        "outputId": "a5977475-79c4-4022-c820-495e0771633c"
      },
      "outputs": [
        {
          "name": "stdout",
          "output_type": "stream",
          "text": [
            "     ┌──────────┐                                                      »\n",
            "q_0: ┤ Rz(-π/4) ├───────■───────────────────────■───────────────────■──»\n",
            "     ├──────────┤       │                     ┌─┴─┐    ┌─────────┐  │  »\n",
            "q_1: ┤ Rz(-π/4) ├───────┼───────────────■─────┤ X ├────┤ Rz(π/4) ├──┼──»\n",
            "     ├──────────┤┌───┐┌─┴─┐┌─────────┐┌─┴─┐┌──┴───┴───┐└─────────┘┌─┴─┐»\n",
            "q_2: ┤ Rx(-π/4) ├┤ H ├┤ X ├┤ Rz(π/4) ├┤ X ├┤ Rz(-π/4) ├───────────┤ X ├»\n",
            "     └──────────┘└───┘└───┘└─────────┘└───┘└──────────┘           └───┘»\n",
            "«                          \n",
            "«q_0: ─────■───────────────\n",
            "«        ┌─┴─┐             \n",
            "«q_1: ───┤ X ├─────■───────\n",
            "«     ┌──┴───┴──┐┌─┴─┐┌───┐\n",
            "«q_2: ┤ Rz(π/4) ├┤ X ├┤ H ├\n",
            "«     └─────────┘└───┘└───┘\n",
            "[[ 9.23879533e-01  0.00000000e+00  0.00000000e+00  0.00000000e+00\n",
            "  -5.55111512e-17  0.00000000e+00  0.00000000e+00  0.00000000e+00]\n",
            " [ 0.00000000e+00  9.23879533e-01  0.00000000e+00  0.00000000e+00\n",
            "   0.00000000e+00  0.00000000e+00  0.00000000e+00  0.00000000e+00]\n",
            " [ 0.00000000e+00  0.00000000e+00  9.23879533e-01  0.00000000e+00\n",
            "   0.00000000e+00  0.00000000e+00  0.00000000e+00  0.00000000e+00]\n",
            " [ 0.00000000e+00  0.00000000e+00  0.00000000e+00 -5.55111512e-17\n",
            "   0.00000000e+00  0.00000000e+00  0.00000000e+00  9.23879533e-01]\n",
            " [-5.55111512e-17  0.00000000e+00  0.00000000e+00  0.00000000e+00\n",
            "   9.23879533e-01  0.00000000e+00  0.00000000e+00  0.00000000e+00]\n",
            " [ 0.00000000e+00  0.00000000e+00  0.00000000e+00  0.00000000e+00\n",
            "   0.00000000e+00  9.23879533e-01  0.00000000e+00  0.00000000e+00]\n",
            " [ 0.00000000e+00  0.00000000e+00  0.00000000e+00  0.00000000e+00\n",
            "   0.00000000e+00  0.00000000e+00  9.23879533e-01  0.00000000e+00]\n",
            " [ 0.00000000e+00  0.00000000e+00  0.00000000e+00  9.23879533e-01\n",
            "   0.00000000e+00  0.00000000e+00  0.00000000e+00 -5.55111512e-17]]\n"
          ]
        }
      ],
      "source": [
        "from qiskit.quantum_info import Operator\n",
        "\n",
        "\n",
        "trial_quantum_circuit = QuantumCircuit(3)\n",
        "\n",
        "trial_quantum_circuit.rz(-np.pi/4, 0)\n",
        "trial_quantum_circuit.rz(-np.pi/4, 1)\n",
        "trial_quantum_circuit.rx(-np.pi/4, 2)\n",
        "\n",
        "trial_quantum_circuit.h(2)\n",
        "trial_quantum_circuit.cx(0, 2)\n",
        "trial_quantum_circuit.rz(np.pi/4, 2)\n",
        "trial_quantum_circuit.cx(1, 2)\n",
        "trial_quantum_circuit.cx(0, 1)\n",
        "trial_quantum_circuit.rz(np.pi/4, 1)\n",
        "trial_quantum_circuit.rz(-np.pi/4, 2)\n",
        "\n",
        "trial_quantum_circuit.cx(0, 2)\n",
        "trial_quantum_circuit.cx(0, 1)\n",
        "\n",
        "trial_quantum_circuit.rz(np.pi/4, 2)\n",
        "trial_quantum_circuit.cx(1, 2)\n",
        "trial_quantum_circuit.h(2)\n",
        "\n",
        "\n",
        "print(trial_quantum_circuit)\n",
        "print(Operator(trial_quantum_circuit).data.real)"
      ]
    },
    {
      "cell_type": "markdown",
      "metadata": {
        "id": "tFgn443NNqc2"
      },
      "source": []
    },
    {
      "cell_type": "code",
      "execution_count": null,
      "metadata": {
        "colab": {
          "base_uri": "https://localhost:8080/",
          "height": 573
        },
        "id": "5ulQXlcaNrt_",
        "outputId": "a47e4c77-ff78-481b-c29d-f648e482b589"
      },
      "outputs": [
        {
          "name": "stderr",
          "output_type": "stream",
          "text": [
            "/usr/local/lib/python3.10/dist-packages/qiskit/visualization/circuit/matplotlib.py:266: FutureWarning: The default matplotlib drawer scheme will be changed to \"iqp\" in a following release. To silence this warning, specify the current default explicitly as style=\"clifford\", or the new default as style=\"iqp\".\n",
            "  self._style, def_font_ratio = load_style(self._style)\n"
          ]
        },
        {
          "data": {
            "image/png": "[encoded data removed]",
            "text/plain": [
              "<Figure size 2210.55x618.722 with 1 Axes>"
            ]
          },
          "execution_count": 177,
          "metadata": {},
          "output_type": "execute_result"
        }
      ],
      "source": [
        "# Qiskit transpile unitary\n",
        "\n",
        "qc = QuantumCircuit(3)\n",
        "qc.unitary(matrix, [0, 1, 2])\n",
        "\n",
        "transpile_qc = transpile(qc, basis_gates=['h', 'cx', 'rx', 'ry', 'rz'])\n",
        "\n",
        "transpile_qc.draw(\"mpl\")"
      ]
    },
    {
      "cell_type": "markdown",
      "metadata": {
        "id": "yvajnBetXyH1"
      },
      "source": [
        "Fidelity of found circuit with qiskit transpile circuit"
      ]
    },
    {
      "cell_type": "code",
      "execution_count": null,
      "metadata": {
        "colab": {
          "base_uri": "https://localhost:8080/"
        },
        "id": "jyDCe71xW7G4",
        "outputId": "393eb5e6-645a-408d-a546-b9aed2aa38f2"
      },
      "outputs": [
        {
          "name": "stdout",
          "output_type": "stream",
          "text": [
            "[0.92387953-3.82683432e-01j 0.        +8.32667268e-17j\n",
            " 0.        +0.00000000e+00j 0.        +0.00000000e+00j\n",
            " 0.        +0.00000000e+00j 0.        +0.00000000e+00j\n",
            " 0.        +0.00000000e+00j 0.        +0.00000000e+00j]\n",
            "[ 1.00000000e+00-3.94129174e-15j -9.10009535e-17-3.22628464e-16j\n",
            " -6.48557029e-16+4.28188523e-16j -2.09710949e-16-4.43579261e-16j\n",
            " -7.85046229e-17+6.16297582e-33j  2.65964317e-32+9.16490376e-33j\n",
            " -7.03562477e-32+6.12204089e-32j -5.22945840e-32-1.74315280e-32j]\n",
            "Fidelity with qiskit:  [1.00000000e+00 1.74741700e-31 6.03971631e-31 2.40741243e-31\n",
            " 6.16297582e-33 8.77367359e-64 3.03858168e-63 8.69794006e-63]\n"
          ]
        }
      ],
      "source": [
        "from qiskit.quantum_info import Operator\n",
        "\n",
        "U = Operator(quantum_circuit)\n",
        "\n",
        "qiskit_U = Operator(transpile_qc)\n",
        "\n",
        "# Show the matrix form results\n",
        "zeros_state = np.array([1] + [0]*7)\n",
        "\n",
        "vector_U = U.data @ zeros_state\n",
        "print(vector_U)\n",
        "vector_qiskit = qiskit_U.data @ zeros_state\n",
        "print(vector_qiskit)\n",
        "\n",
        "print(\"Fidelity with qiskit: \", np.abs(vector_U.dot(vector_qiskit.conjugate().transpose()))**2)"
      ]
    },
    {
      "cell_type": "markdown",
      "metadata": {
        "id": "pf-91F5lX44n"
      },
      "source": [
        "Fidelity of Toffoli circuit with qiskit transpile circuit"
      ]
    },
    {
      "cell_type": "code",
      "execution_count": null,
      "metadata": {
        "colab": {
          "base_uri": "https://localhost:8080/"
        },
        "id": "jBXb8NnSXvnT",
        "outputId": "afdfbced-50b2-4b8e-d6a7-2766d15d41e8"
      },
      "outputs": [
        {
          "name": "stdout",
          "output_type": "stream",
          "text": [
            "[ 1.00000000e+00-3.94129174e-15j -9.10009535e-17-3.22628464e-16j\n",
            " -6.48557029e-16+4.28188523e-16j -2.09710949e-16-4.43579261e-16j\n",
            " -7.85046229e-17+6.16297582e-33j  2.65964317e-32+9.16490376e-33j\n",
            " -7.03562477e-32+6.12204089e-32j -5.22945840e-32-1.74315280e-32j]\n",
            "[1.+0.j 0.+0.j 0.+0.j 0.+0.j 0.+0.j 0.+0.j 0.+0.j 0.+0.j]\n",
            "Fidelity:  0.9999999999999992\n"
          ]
        }
      ],
      "source": [
        "from qiskit.quantum_info import Operator\n",
        "\n",
        "qiskit_U = Operator(transpile_qc)\n",
        "\n",
        "# Show the matrix form results\n",
        "zeros_state = np.array([1] + [0]*7)\n",
        "\n",
        "vector_qiskit = qiskit_U.data @ zeros_state\n",
        "print(vector_qiskit)\n",
        "vector_matrix = matrix @ zeros_state\n",
        "print(vector_matrix)\n",
        "\n",
        "print(\"Fidelity: \", np.abs(vector_qiskit.dot(vector_matrix.conjugate().transpose())))"
      ]
    },
    {
      "cell_type": "code",
      "execution_count": null,
      "metadata": {
        "colab": {
          "base_uri": "https://localhost:8080/"
        },
        "id": "WI86ff3Wat6F",
        "outputId": "b6802a8d-2e1b-4d2a-e2e7-10ccf2c9874d"
      },
      "outputs": [
        {
          "name": "stdout",
          "output_type": "stream",
          "text": [
            "Fidelity of qiskit: 0.9999999999999991\n",
            "Fidelity of our calculation: 0.9999999999999991\n"
          ]
        }
      ],
      "source": [
        "\n",
        "print(\"Fidelity of qiskit:\", np.abs(np.trace(qiskit_U.data.transpose().conjugate() @ matrix) / 2**3)**2)\n",
        "print(\"Fidelity of our calculation:\", np.abs(np.trace(U.data.transpose().conjugate() @ matrix) / 2**3)**2)"
      ]
    },
    {
      "cell_type": "code",
      "execution_count": null,
      "metadata": {
        "colab": {
          "base_uri": "https://localhost:8080/"
        },
        "id": "AlyCR6tXeZeg",
        "outputId": "f7f9ad06-1b04-4ac9-a88c-62e754f96979"
      },
      "outputs": [
        {
          "data": {
            "text/plain": [
              "0.0"
            ]
          },
          "execution_count": 190,
          "metadata": {},
          "output_type": "execute_result"
        }
      ],
      "source": [
        "np.abs(np.trace(qiskit_U.data.transpose().conjugate() @ matrix) / 2**3)**2 - np.abs(np.trace(U.data.transpose().conjugate() @ matrix) / 2**3)**2"
      ]
    },
    {
      "cell_type": "code",
      "execution_count": null,
      "metadata": {
        "colab": {
          "base_uri": "https://localhost:8080/",
          "height": 310
        },
        "id": "8tEeCNJi3bqi",
        "outputId": "254c959f-da0a-4a2b-b603-554a5c2cb78f"
      },
      "outputs": [
        {
          "name": "stderr",
          "output_type": "stream",
          "text": [
            "/usr/local/lib/python3.10/dist-packages/qiskit/visualization/circuit/matplotlib.py:266: FutureWarning: The default matplotlib drawer scheme will be changed to \"iqp\" in a following release. To silence this warning, specify the current default explicitly as style=\"clifford\", or the new default as style=\"iqp\".\n",
            "  self._style, def_font_ratio = load_style(self._style)\n"
          ]
        },
        {
          "data": {
            "image/png": "[encoded data removed]",
            "text/plain": [
              "<Figure size 1290.83x284.278 with 1 Axes>"
            ]
          },
          "execution_count": 9,
          "metadata": {},
          "output_type": "execute_result"
        }
      ],
      "source": [
        "from qiskit import QuantumCircuit\n",
        "import numpy as np\n",
        "\n",
        "qc = QuantumCircuit(3)\n",
        "\n",
        "qc.h(2)\n",
        "qc.cx(1, 2)\n",
        "qc.p(-np.pi/4, 2)\n",
        "qc.cx(0, 2)\n",
        "qc.p(np.pi/4, 2)\n",
        "qc.cx(1, 2)\n",
        "qc.p(-np.pi/4, 2)\n",
        "qc.cx(0, 2)\n",
        "\n",
        "qc.barrier()\n",
        "\n",
        "qc.p(-np.pi/4, 1)\n",
        "qc.p(np.pi/4, 2)\n",
        "\n",
        "\n",
        "qc.cx(0,1)\n",
        "qc.h(2)\n",
        "\n",
        "qc.p(-np.pi/4, 1)\n",
        "\n",
        "qc.cx(0,1)\n",
        "\n",
        "qc.p(np.pi/4, 0)\n",
        "qc.p(np.pi/2, 1)\n",
        "\n",
        "qc.draw(\"mpl\")"
      ]
    },
    {
      "cell_type": "code",
      "execution_count": null,
      "metadata": {
        "colab": {
          "base_uri": "https://localhost:8080/"
        },
        "id": "71_j0TVg0fjE",
        "outputId": "29f1f2d4-4c3d-4cfe-f036-c944c0ee7353"
      },
      "outputs": [
        {
          "name": "stdout",
          "output_type": "stream",
          "text": [
            "\\documentclass[border=2px]{standalone}\n",
            "\n",
            "\\usepackage[braket, qm]{qcircuit}\n",
            "\\usepackage{graphicx}\n",
            "\n",
            "\\begin{document}\n",
            "\\scalebox{1.0}{\n",
            "\\Qcircuit @C=1.0em @R=0.2em @!R { \\\\\n",
            "\t \t\\nghost{{q}_{0} :  } & \\lstick{{q}_{0} :  } & \\qw & \\qw & \\qw & \\ctrl{2} & \\qw & \\qw & \\qw & \\ctrl{2} \\barrier[0em]{2} & \\qw & \\qw & \\ctrl{1} & \\qw & \\ctrl{1} & \\gate{\\mathrm{P}\\,(\\mathrm{\\frac{\\pi}{4}})} & \\qw & \\qw\\\\\n",
            "\t \t\\nghost{{q}_{1} :  } & \\lstick{{q}_{1} :  } & \\qw & \\ctrl{1} & \\qw & \\qw & \\qw & \\ctrl{1} & \\qw & \\qw & \\qw & \\gate{\\mathrm{P}\\,(\\mathrm{\\frac{-\\pi}{4}})} & \\targ & \\gate{\\mathrm{P}\\,(\\mathrm{\\frac{-\\pi}{4}})} & \\targ & \\gate{\\mathrm{P}\\,(\\mathrm{\\frac{\\pi}{2}})} & \\qw & \\qw\\\\\n",
            "\t \t\\nghost{{q}_{2} :  } & \\lstick{{q}_{2} :  } & \\gate{\\mathrm{H}} & \\targ & \\gate{\\mathrm{P}\\,(\\mathrm{\\frac{-\\pi}{4}})} & \\targ & \\gate{\\mathrm{P}\\,(\\mathrm{\\frac{\\pi}{4}})} & \\targ & \\gate{\\mathrm{P}\\,(\\mathrm{\\frac{-\\pi}{4}})} & \\targ & \\qw & \\gate{\\mathrm{P}\\,(\\mathrm{\\frac{\\pi}{4}})} & \\gate{\\mathrm{H}} & \\qw & \\qw & \\qw & \\qw & \\qw\\\\\n",
            "\\\\ }}\n",
            "\\end{document}\n"
          ]
        },
        {
          "name": "stderr",
          "output_type": "stream",
          "text": [
            "/usr/local/lib/python3.10/dist-packages/qiskit/visualization/circuit/latex.py:154: FutureWarning: The default matplotlib drawer scheme will be changed to \"iqp\" in a following release. To silence this warning, specify the current default explicitly as style=\"clifford\", or the new default as style=\"iqp\".\n",
            "  self._style, _ = load_style(style)\n"
          ]
        }
      ],
      "source": [
        "print(qc.draw(\"latex_source\"))"
      ]
    },
    {
      "cell_type": "code",
      "execution_count": null,
      "metadata": {
        "colab": {
          "base_uri": "https://localhost:8080/",
          "height": 310
        },
        "id": "bAhSk-qN4BuQ",
        "outputId": "1570580c-303d-4546-f9e0-68e7e95bf280"
      },
      "outputs": [
        {
          "name": "stderr",
          "output_type": "stream",
          "text": [
            "/usr/local/lib/python3.10/dist-packages/qiskit/visualization/circuit/matplotlib.py:266: FutureWarning: The default matplotlib drawer scheme will be changed to \"iqp\" in a following release. To silence this warning, specify the current default explicitly as style=\"clifford\", or the new default as style=\"iqp\".\n",
            "  self._style, def_font_ratio = load_style(self._style)\n"
          ]
        },
        {
          "data": {
            "image/png": "[encoded data removed]",
            "text/plain": [
              "<Figure size 1040x284.278 with 1 Axes>"
            ]
          },
          "execution_count": 11,
          "metadata": {},
          "output_type": "execute_result"
        }
      ],
      "source": [
        "from qiskit.circuit import QuantumCircuit\n",
        "\n",
        "ccx_circ = QuantumCircuit(3)\n",
        "ccx_circ.ccx(0, 1, 2)\n",
        "ccx_circ.decompose().draw(output='mpl')"
      ]
    },
    {
      "cell_type": "code",
      "execution_count": null,
      "metadata": {
        "colab": {
          "base_uri": "https://localhost:8080/"
        },
        "id": "MUhp457x6AOj",
        "outputId": "d614f1cb-d882-4aa0-f9bc-803ff792fe1c"
      },
      "outputs": [
        {
          "name": "stdout",
          "output_type": "stream",
          "text": [
            "\\documentclass[border=2px]{standalone}\n",
            "\n",
            "\\usepackage[braket, qm]{qcircuit}\n",
            "\\usepackage{graphicx}\n",
            "\n",
            "\\begin{document}\n",
            "\\scalebox{1.0}{\n",
            "\\Qcircuit @C=1.0em @R=0.2em @!R { \\\\\n",
            "\t \t\\nghost{{q}_{0} :  } & \\lstick{{q}_{0} :  } & \\qw & \\qw & \\qw & \\ctrl{2} & \\qw & \\qw & \\qw & \\ctrl{2} & \\ctrl{1} & \\gate{\\mathrm{T}} & \\ctrl{1} & \\qw & \\qw\\\\\n",
            "\t \t\\nghost{{q}_{1} :  } & \\lstick{{q}_{1} :  } & \\qw & \\ctrl{1} & \\qw & \\qw & \\qw & \\ctrl{1} & \\gate{\\mathrm{T}} & \\qw & \\targ & \\gate{\\mathrm{T^\\dagger}} & \\targ & \\qw & \\qw\\\\\n",
            "\t \t\\nghost{{q}_{2} :  } & \\lstick{{q}_{2} :  } & \\gate{\\mathrm{H}} & \\targ & \\gate{\\mathrm{T^\\dagger}} & \\targ & \\gate{\\mathrm{T}} & \\targ & \\gate{\\mathrm{T^\\dagger}} & \\targ & \\gate{\\mathrm{T}} & \\gate{\\mathrm{H}} & \\qw & \\qw & \\qw\\\\\n",
            "\\\\ }}\n",
            "\\end{document}\n"
          ]
        },
        {
          "name": "stderr",
          "output_type": "stream",
          "text": [
            "/usr/local/lib/python3.10/dist-packages/qiskit/visualization/circuit/latex.py:154: FutureWarning: The default matplotlib drawer scheme will be changed to \"iqp\" in a following release. To silence this warning, specify the current default explicitly as style=\"clifford\", or the new default as style=\"iqp\".\n",
            "  self._style, _ = load_style(style)\n"
          ]
        }
      ],
      "source": [
        "print(ccx_circ.decompose().draw(\"latex_source\"))"
      ]
    },
    {
      "cell_type": "code",
      "execution_count": null,
      "metadata": {
        "colab": {
          "base_uri": "https://localhost:8080/"
        },
        "id": "3ZlAT6OG4zKv",
        "outputId": "6b92b0a6-ec75-4108-d5b9-bde0581ea021"
      },
      "outputs": [
        {
          "name": "stdout",
          "output_type": "stream",
          "text": [
            "Fidelity of qc: 0.9999999999999996\n"
          ]
        }
      ],
      "source": [
        "from qiskit.quantum_info import Operator\n",
        "\n",
        "qc_U = Operator(qc)\n",
        "\n",
        "print(\"Fidelity of qc:\", np.abs(np.trace(qc_U.data.transpose().conjugate() @ toffoli_gate_U.data) / 2**3)**2)"
      ]
    },
    {
      "cell_type": "code",
      "execution_count": null,
      "metadata": {
        "colab": {
          "base_uri": "https://localhost:8080/"
        },
        "id": "8XcX8g2K5zg0",
        "outputId": "3b183076-369d-41e4-db04-0584b84122d0"
      },
      "outputs": [
        {
          "data": {
            "text/plain": [
              "array([[1.00000000e+00, 0.00000000e+00, 0.00000000e+00, 0.00000000e+00,\n",
              "        0.00000000e+00, 0.00000000e+00, 0.00000000e+00, 0.00000000e+00],\n",
              "       [0.00000000e+00, 1.00000000e+00, 0.00000000e+00, 0.00000000e+00,\n",
              "        0.00000000e+00, 0.00000000e+00, 0.00000000e+00, 0.00000000e+00],\n",
              "       [0.00000000e+00, 0.00000000e+00, 1.00000000e+00, 0.00000000e+00,\n",
              "        0.00000000e+00, 0.00000000e+00, 3.92523115e-17, 0.00000000e+00],\n",
              "       [0.00000000e+00, 0.00000000e+00, 0.00000000e+00, 2.19399952e-32,\n",
              "        0.00000000e+00, 0.00000000e+00, 0.00000000e+00, 1.00000000e+00],\n",
              "       [0.00000000e+00, 0.00000000e+00, 0.00000000e+00, 0.00000000e+00,\n",
              "        1.00000000e+00, 0.00000000e+00, 0.00000000e+00, 0.00000000e+00],\n",
              "       [0.00000000e+00, 0.00000000e+00, 0.00000000e+00, 0.00000000e+00,\n",
              "        0.00000000e+00, 1.00000000e+00, 0.00000000e+00, 0.00000000e+00],\n",
              "       [0.00000000e+00, 0.00000000e+00, 3.92523115e-17, 0.00000000e+00,\n",
              "        0.00000000e+00, 0.00000000e+00, 1.00000000e+00, 0.00000000e+00],\n",
              "       [0.00000000e+00, 0.00000000e+00, 0.00000000e+00, 1.00000000e+00,\n",
              "        0.00000000e+00, 0.00000000e+00, 0.00000000e+00, 2.19399952e-32]])"
            ]
          },
          "execution_count": 25,
          "metadata": {},
          "output_type": "execute_result"
        }
      ],
      "source": [
        "qc_U.data.real"
      ]
    },
    {
      "cell_type": "code",
      "execution_count": null,
      "metadata": {
        "colab": {
          "base_uri": "https://localhost:8080/",
          "height": 255
        },
        "id": "dRUHN-tP6E5w",
        "outputId": "b9be955f-0ebd-4ebc-ba3f-f99abf808097"
      },
      "outputs": [
        {
          "data": {
            "image/png": "[encoded data removed]",
            "text/plain": [
              "<Figure size 203.885x284.278 with 1 Axes>"
            ]
          },
          "execution_count": 7,
          "metadata": {},
          "output_type": "execute_result"
        }
      ],
      "source": [
        "toffoli_gate = QuantumCircuit(3)\n",
        "\n",
        "toffoli_gate.ccx(0, 1, 2)\n",
        "\n",
        "toffoli_gate.draw(\"mpl\")"
      ]
    },
    {
      "cell_type": "code",
      "execution_count": null,
      "metadata": {
        "colab": {
          "base_uri": "https://localhost:8080/"
        },
        "id": "eRFVFU2jy7ye",
        "outputId": "92e70db7-9b4d-472e-e734-bf99c9a1c93d"
      },
      "outputs": [
        {
          "name": "stdout",
          "output_type": "stream",
          "text": [
            "\\documentclass[border=2px]{standalone}\n",
            "\n",
            "\\usepackage[braket, qm]{qcircuit}\n",
            "\\usepackage{graphicx}\n",
            "\n",
            "\\begin{document}\n",
            "\\scalebox{1.0}{\n",
            "\\Qcircuit @C=1.0em @R=0.8em @!R { \\\\\n",
            "\t \t\\nghost{{q}_{0} :  } & \\lstick{{q}_{0} :  } & \\ctrl{1} & \\qw & \\qw\\\\\n",
            "\t \t\\nghost{{q}_{1} :  } & \\lstick{{q}_{1} :  } & \\ctrl{1} & \\qw & \\qw\\\\\n",
            "\t \t\\nghost{{q}_{2} :  } & \\lstick{{q}_{2} :  } & \\targ & \\qw & \\qw\\\\\n",
            "\\\\ }}\n",
            "\\end{document}\n"
          ]
        },
        {
          "name": "stderr",
          "output_type": "stream",
          "text": [
            "/usr/local/lib/python3.10/dist-packages/qiskit/visualization/circuit/latex.py:154: FutureWarning: The default matplotlib drawer scheme will be changed to \"iqp\" in a following release. To silence this warning, specify the current default explicitly as style=\"clifford\", or the new default as style=\"iqp\".\n",
            "  self._style, _ = load_style(style)\n"
          ]
        }
      ],
      "source": [
        "print(toffoli_gate.draw(\"latex_source\"))"
      ]
    },
    {
      "cell_type": "code",
      "execution_count": null,
      "metadata": {
        "colab": {
          "base_uri": "https://localhost:8080/"
        },
        "id": "RwPozrfr6LA0",
        "outputId": "54967a25-d7ec-49ad-9994-02d40645992b"
      },
      "outputs": [
        {
          "name": "stdout",
          "output_type": "stream",
          "text": [
            "[[1. 0. 0. 0. 0. 0. 0. 0.]\n",
            " [0. 1. 0. 0. 0. 0. 0. 0.]\n",
            " [0. 0. 1. 0. 0. 0. 0. 0.]\n",
            " [0. 0. 0. 0. 0. 0. 0. 1.]\n",
            " [0. 0. 0. 0. 1. 0. 0. 0.]\n",
            " [0. 0. 0. 0. 0. 1. 0. 0.]\n",
            " [0. 0. 0. 0. 0. 0. 1. 0.]\n",
            " [0. 0. 0. 1. 0. 0. 0. 0.]]\n"
          ]
        }
      ],
      "source": [
        "toffoli_gate_U = Operator(toffoli_gate)\n",
        "\n",
        "print(toffoli_gate_U.data.real)"
      ]
    },
    {
      "cell_type": "markdown",
      "metadata": {
        "id": "6a9L8Azr48WI"
      },
      "source": []
    },
    {
      "cell_type": "code",
      "execution_count": null,
      "metadata": {
        "id": "GOzR09WJi-Qa"
      },
      "outputs": [],
      "source": [
        "pool = Qubit_Excitation_pool([3,2], 8)"
      ]
    },
    {
      "cell_type": "code",
      "execution_count": null,
      "metadata": {
        "colab": {
          "base_uri": "https://localhost:8080/"
        },
        "id": "MH4N0edVjELm",
        "outputId": "0573be3e-8fc3-47bb-f7df-73191e1ddeea"
      },
      "outputs": [
        {
          "name": "stdout",
          "output_type": "stream",
          "text": [
            "10011011\n",
            "double\n",
            "[2, 5, 3, 7]\n"
          ]
        }
      ],
      "source": [
        "print(pool[\"basis_state\"][0])\n",
        "print(pool[\"excitation_type\"][0])\n",
        "print(pool[\"position\"][0])"
      ]
    },
    {
      "cell_type": "code",
      "execution_count": null,
      "metadata": {
        "id": "J33cK3e1jooX"
      },
      "outputs": [],
      "source": []
    },
    {
      "cell_type": "code",
      "execution_count": null,
      "metadata": {
        "id": "LnnC0a9qiqhf"
      },
      "outputs": [],
      "source": [
        "from itertools import permutations\n",
        "from qiskit.quantum_info import SparsePauliOp,Pauli\n",
        "\n",
        "def general_excitation_gate(number_of_qubit, theta=None):\n",
        "  # theta = Parameter('?')\n",
        "  if theta == None:\n",
        "    theta = 0\n",
        "  quantum_register = QuantumRegister(number_of_qubit)\n",
        "  quantum_circuit = QuantumCircuit(quantum_register)\n",
        "\n",
        "  ch_gate = XGate().control(number_of_qubit-1, ctrl_state=\"0\"*int((number_of_qubit-2)/2) + \"1\" + \"0\"*int((number_of_qubit-2)/2) )\n",
        "\n",
        "  # Construct BLOCK 1 CNOT\n",
        "  if  number_of_qubit >= 4:\n",
        "    for i in range(1, int(number_of_qubit/2)):\n",
        "      quantum_circuit.cx(0, i)\n",
        "  else:\n",
        "    quantum_circuit.cx(0,1)\n",
        "\n",
        "  if number_of_qubit >= 4:\n",
        "    for i in range(1, int(number_of_qubit/2)):\n",
        "      quantum_circuit.cx(int(number_of_qubit/2), i+int(number_of_qubit/2))\n",
        "\n",
        "  if number_of_qubit >= 4:\n",
        "    quantum_circuit.cx(0, int(number_of_qubit/2))\n",
        "\n",
        "\n",
        "  quantum_circuit.append(ch_gate, list((np.linspace(1, number_of_qubit-1, number_of_qubit-1)).astype(int)) + [0])\n",
        "  quantum_circuit.ry(theta*-1/2, 0)\n",
        "  quantum_circuit.append(ch_gate, list((np.linspace(1, number_of_qubit-1, number_of_qubit-1)).astype(int)) + [0])\n",
        "  quantum_circuit.ry(theta/2, 0)\n",
        "\n",
        "  if number_of_qubit >= 4:\n",
        "    quantum_circuit.cx(0, int(number_of_qubit/2))\n",
        "\n",
        "  # Construc BLOCK 2 CNOT\n",
        "  if  number_of_qubit >= 4:\n",
        "    for i in range(int(number_of_qubit/2)-1, 0, -1):\n",
        "      quantum_circuit.cx(0, i)\n",
        "  else:\n",
        "    quantum_circuit.cx(0,1)\n",
        "\n",
        "  if number_of_qubit >= 4:\n",
        "    for i in range(int(number_of_qubit/2)-1, 0, -1):\n",
        "      quantum_circuit.cx(int(number_of_qubit/2), i+int(number_of_qubit/2))\n",
        "  return quantum_circuit\n",
        "\n",
        "def Qubit_Excitation_pool(num_particles, num_qubits, restricted=None):\n",
        "  perm_alpha = set(permutations([\"1\"]*num_particles[0] + [\"0\"]*int(num_qubits/2-num_particles[0])))\n",
        "  string_elements_alpha = [''.join(element) for element in perm_alpha]\n",
        "\n",
        "  perm_beta = set(permutations([\"1\"]*num_particles[1] + [\"0\"]*int(num_qubits/2-num_particles[1])))\n",
        "  string_elements_beta = [''.join(element) for element in perm_beta]\n",
        "\n",
        "  base_state = (''.join([\"1\"]*num_particles[0] + [\"0\"]*int(num_qubits/2-num_particles[0]) + [\"1\"]*num_particles[1] + [\"0\"]*int(num_qubits/2-num_particles[1])))[::-1]\n",
        "  # print(f\"HF: {base_state}\")\n",
        "  basis_data = {\"basis_state\": [], \"excitation_operators\": [], \"position\": [], \"excitation_type\": [], \"pool_type\": []}\n",
        "\n",
        "\n",
        "  # Define pauli operator by SparsePauliOp\n",
        "  sigma_plus = SparsePauliOp([\"X\", \"Y\"], coeffs=[1/2, -1j/2,], )\n",
        "  sigma_minus = SparsePauliOp([\"X\", \"Y\"], coeffs=[1/2, 1j/2,],)\n",
        "  I = SparsePauliOp([\"I\"], coeffs=[1,],)\n",
        "\n",
        "  for i in range(len(string_elements_alpha)):\n",
        "    for j in range(len(string_elements_beta)):\n",
        "      basis_data[\"basis_state\"].append(string_elements_beta[j] + string_elements_alpha[i])\n",
        "\n",
        "  # Remove Hatree-Fock State\n",
        "  basis_data[\"basis_state\"].remove(base_state)\n",
        "\n",
        "  # Type_of_state\n",
        "  position_count = []\n",
        "  for i in range(0, num_particles[0]):\n",
        "    position_count.append(i)\n",
        "  for i in range(int(num_qubits/2), num_particles[1] + int(num_qubits/2)):\n",
        "    position_count.append(i)\n",
        "  # print(position_count)\n",
        "\n",
        "\n",
        "  for i in range(len(basis_data[\"basis_state\"])):\n",
        "    check_excitation = 0\n",
        "    for j in position_count:\n",
        "      if basis_data[\"basis_state\"][i][::-1][j] == \"0\":\n",
        "        check_excitation += 1\n",
        "    # print(basis_data[\"basis_state\"][i])\n",
        "    # print(check_excitation)\n",
        "    if check_excitation == 1:\n",
        "      basis_data[\"excitation_type\"].append(\"single\")\n",
        "    elif check_excitation == 2:\n",
        "      basis_data[\"excitation_type\"].append(\"double\")\n",
        "    elif check_excitation == 3:\n",
        "      basis_data[\"excitation_type\"].append(\"triple\")\n",
        "    elif check_excitation == 4:\n",
        "      basis_data[\"excitation_type\"].append(\"quadruple\")\n",
        "    elif check_excitation == 5:\n",
        "      basis_data[\"excitation_type\"].append(\"quintuple\")\n",
        "    elif check_excitation == 6:\n",
        "      basis_data[\"excitation_type\"].append(\"sextuple\")\n",
        "    elif check_excitation == 7:\n",
        "      basis_data[\"excitation_type\"].append(\"septuple\")\n",
        "    elif check_excitation == 8:\n",
        "      basis_data[\"excitation_type\"].append(\"octuple\")\n",
        "    else:\n",
        "      basis_data[\"excitation_type\"].append(\"Unknown\")\n",
        "\n",
        "  # Retricted to single and double\n",
        "  if restricted == \"single_double_excitation\":\n",
        "    non_single_double_excitation_state = []\n",
        "    for i in range(len(basis_data[\"excitation_type\"])):\n",
        "      if basis_data[\"excitation_type\"][i] != \"single\" and basis_data[\"excitation_type\"][i] != \"double\":\n",
        "        non_single_double_excitation_state.append(basis_data[\"basis_state\"][i])\n",
        "    # print(non_single_double_excitation_state)\n",
        "    for state in (non_single_double_excitation_state):\n",
        "      basis_data[\"excitation_type\"].pop(basis_data[\"basis_state\"].index(state))\n",
        "      basis_data[\"basis_state\"].remove(state)\n",
        "\n",
        "  #Retricted to single, double, triple and quadruple\n",
        "  if restricted == \"single_double_triple_quadruple_excitation\":\n",
        "    non_single_double_excitation_state = []\n",
        "    for i in range(len(basis_data[\"excitation_type\"])):\n",
        "      if basis_data[\"excitation_type\"][i] != \"single\" and basis_data[\"excitation_type\"][i] != \"double\" and basis_data[\"excitation_type\"][i] != \"triple\" and basis_data[\"excitation_type\"][i] != \"quadruple\":\n",
        "        non_single_double_excitation_state.append(basis_data[\"basis_state\"][i])\n",
        "    # print(non_single_double_excitation_state)\n",
        "    for state in (non_single_double_excitation_state):\n",
        "      basis_data[\"excitation_type\"].pop(basis_data[\"basis_state\"].index(state))\n",
        "      basis_data[\"basis_state\"].remove(state)\n",
        "\n",
        "  for _ in range(len(basis_data[\"basis_state\"])):\n",
        "    basis_data[\"pool_type\"].append(\"QubitExcitationBased\")\n",
        "\n",
        "  # Exciation_operator\n",
        "  for state in basis_data[\"basis_state\"]:\n",
        "    operator = I.copy()\n",
        "    reverse_state = state[::-1]\n",
        "    for i in range(len(reverse_state)):\n",
        "      if i == 0:\n",
        "        if reverse_state[i] == '1' and base_state[::-1][i] == '0':\n",
        "          operator = sigma_plus\n",
        "        if reverse_state[i] == '0' and base_state[::-1][i] == '1':\n",
        "          operator = sigma_minus\n",
        "      else:\n",
        "        if reverse_state[i] == '1' and base_state[::-1][i] == '0':\n",
        "          operator = operator.expand(sigma_plus)\n",
        "        elif reverse_state[i] == '0' and base_state[::-1][i] == '1':\n",
        "          operator = operator.expand(sigma_minus)\n",
        "        else:\n",
        "          operator = operator.expand(I)\n",
        "\n",
        "    basis_data[\"excitation_operators\"].append((operator - operator.conjugate().transpose()).simplify())\n",
        "\n",
        "  # Position of annhilation and creation operator\n",
        "  for state in basis_data[\"basis_state\"]:\n",
        "    position_annhilation = []\n",
        "    position_creation = []\n",
        "\n",
        "    for i in range(0, num_particles[0]):\n",
        "      initial_base_state = base_state[::-1]\n",
        "      initial_basis_data = state[::-1]\n",
        "\n",
        "      if initial_base_state[i] != initial_basis_data[i]:\n",
        "        position_annhilation.append(i)\n",
        "\n",
        "    for i in range(int(num_qubits/2), int(num_qubits/2)+num_particles[1]):\n",
        "      initial_base_state = base_state[::-1]\n",
        "      initial_basis_data = state[::-1]\n",
        "\n",
        "      if initial_base_state[i] != initial_basis_data[i]:\n",
        "        position_annhilation.append(i)\n",
        "\n",
        "    for i in range(num_particles[0], int(num_qubits/2)):\n",
        "      initial_base_state = base_state[::-1]\n",
        "      initial_basis_data = state[::-1]\n",
        "\n",
        "      if initial_base_state[i] != initial_basis_data[i]:\n",
        "        position_creation.append(i)\n",
        "\n",
        "    for i in range(int(num_qubits/2)+num_particles[1], num_qubits):\n",
        "      initial_base_state = base_state[::-1]\n",
        "      initial_basis_data = state[::-1]\n",
        "\n",
        "      if initial_base_state[i] != initial_basis_data[i]:\n",
        "        position_creation.append(i)\n",
        "\n",
        "    position = position_annhilation + position_creation\n",
        "\n",
        "    basis_data[\"position\"].append(position)\n",
        "\n",
        "  return basis_data"
      ]
    }
  ],
  "metadata": {
    "colab": {
      "provenance": []
    },
    "kernelspec": {
      "display_name": "Python 3",
      "name": "python3"
    },
    "language_info": {
      "codemirror_mode": {
        "name": "ipython",
        "version": 3
      },
      "file_extension": ".py",
      "mimetype": "text/x-python",
      "name": "python",
      "nbconvert_exporter": "python",
      "pygments_lexer": "ipython3",
      "version": "3.10.11"
    }
  },
  "nbformat": 4,
  "nbformat_minor": 0
}
