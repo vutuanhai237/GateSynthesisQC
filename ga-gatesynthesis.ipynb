{
 "cells": [
  {
   "cell_type": "code",
   "execution_count": null,
   "metadata": {},
   "outputs": [],
   "source": [
    "import sys, qiskit\n",
    "sys.path.insert(0, '..')\n",
    "import matplotlib.pyplot as plt\n",
    "import numpy as np\n",
    "import qiskit.quantum_info as qi\n",
    "from qoop.compilation.qsp import QuantumStatePreparation\n",
    "from qoop.core import ansatz, state, measure\n",
    "from qoop.backend import constant, utilities\n",
    "from qoop.evolution import crossover, mutate, selection, threshold\n",
    "from qoop.evolution.environment import EEnvironment, EEnvironmentMetadata\n",
    "from qoop.evolution.utilities import create_params\n",
    "\n",
    "def gate_synthesis_fitness(qc: qiskit.QuantumCircuit):\n",
    "\t# Fill code here\n",
    "    return\n",
    "\n",
    "num_qubits = 3\n",
    "def super_evol(_depth, _num_circuit, _num_generation):\n",
    "    env_metadata = EEnvironmentMetadata(\n",
    "        num_qubits = num_qubits,\n",
    "        depth = _depth,\n",
    "        num_circuit = _num_circuit,\n",
    "        num_generation = _num_generation,\n",
    "        prob_mutate=3/(_depth * _num_circuit)\n",
    "    )\n",
    "    env = EEnvironment(\n",
    "        metadata = env_metadata,\n",
    "        fitness_func=[gate_synthesis_fitness],\n",
    "        selection_func=selection.elitist_selection,\n",
    "        crossover_func=crossover.onepoint_crossover,\n",
    "        mutate_func=mutate.layerflip_mutate,\n",
    "        threshold_func=threshold.compilation_threshold\n",
    "    )\n",
    "    env.set_filename(f'n={num_qubits},d={_depth},n_circuit={_num_circuit},n_gen={_num_generation}')\n",
    "    env.evol()\n",
    "# def multiple_compile(params):\n",
    "#     import concurrent.futures\n",
    "#     executor = concurrent.futures.ProcessPoolExecutor()\n",
    "#     results = executor.map(bypass_compile, params)\n",
    "#     return results\n",
    "\n",
    "\n",
    "# main\n",
    "if __name__ == '__main__':\n",
    "    # depths = [2,3,4] # 5 qubits case\n",
    "    # num_circuits = [4,8,16,32]\n",
    "    # num_generations = [10,20,30,40, 50]\n",
    "    # params = create_params(depths, num_circuits, num_generations)\n",
    "    # multiple_compile(params)\n",
    "    super_evol(10, 16, 20)"
   ]
  }
 ],
 "metadata": {
  "language_info": {
   "name": "python"
  }
 },
 "nbformat": 4,
 "nbformat_minor": 2
}
