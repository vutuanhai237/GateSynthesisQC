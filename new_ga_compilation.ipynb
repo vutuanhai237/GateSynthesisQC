{
 "cells": [
  {
   "cell_type": "code",
   "execution_count": 40,
   "metadata": {},
   "outputs": [
    {
     "name": "stdout",
     "output_type": "stream",
     "text": [
      "The autoreload extension is already loaded. To reload it, use:\n",
      "  %reload_ext autoreload\n",
      "Initialize list of circuit ...\n",
      "Start evol progress ...\n",
      "Running at generation 1\n",
      "[0.2222 0.3674 0.2171 0.2203]\n",
      "Saving circuit ...\n",
      "Saving circuit ...\n",
      "Running at generation 2\n",
      "[0.3674 0.1814 0.2428 0.183 ]\n",
      "Saving circuit ...\n",
      "Saving circuit ...\n",
      "Running at generation 3\n",
      "[0.3674 0.2428 0.2428 0.3674]\n",
      "Saving circuit ...\n",
      "Saving circuit ...\n",
      "End evol progress, best score ever: 0.36738980482493644\n"
     ]
    }
   ],
   "source": [
    "import qiskit\n",
    "from qoop.core import state, metric, ansatz\n",
    "from qoop.compilation.qsp import QuantumStatePreparation\n",
    "from qoop.evolution.environment_compilation import MetadataCompilation\n",
    "from qoop.evolution.environment import EEnvironment\n",
    "from qoop.evolution import crossover, divider, normalizer, generator\n",
    "%load_ext autoreload\n",
    "%autoreload 2\n",
    "def fitnessW(qc: qiskit.QuantumCircuit):\n",
    "    qsp = QuantumStatePreparation(\n",
    "        u = qc,\n",
    "        target_state = state.w(num_qubits = 3).inverse()\n",
    "    ).fit(num_steps = 10)\n",
    "    return 1 - qsp.compiler.metrics['loss_fubini_study'][-1] # Fitness value\n",
    "\n",
    "env_metadata = MetadataCompilation(\n",
    "        num_qubits = 3, # As its name\n",
    "        depth = 4, # Ansatz depth you want\n",
    "        num_circuit = 4, # Number of ansatz per generation\n",
    "        num_generation = 3, # Number of generation/iteration for GA \n",
    "        prob_mutate = 0.01 # Mutation probability, usually as small as 0.01 (1%)\n",
    ")\n",
    "\n",
    "env = EEnvironment(\n",
    "    metadata = env_metadata,\n",
    "    fitness_func = fitnessW,\n",
    "    generator_func = generator.by_depth,\n",
    "    crossover_func = crossover.onepoint(divider.by_depth(2), normalizer.by_depth(4))\n",
    ").evol()"
   ]
  },
  {
   "cell_type": "code",
   "execution_count": null,
   "metadata": {},
   "outputs": [
    {
     "name": "stdout",
     "output_type": "stream",
     "text": [
      "          ┌───┐┌───┐               ┌───┐┌───┐\n",
      "q_0: ─────┤ X ├┤ T ├──■─────────■──┤ T ├┤ X ├\n",
      "     ┌───┐└─┬─┘└───┘  │  ┌───┐  │  └───┘└─┬─┘\n",
      "q_1: ┤ Z ├──┼────■────┼──┤ T ├──┼─────────■──\n",
      "     ├───┤  │  ┌─┴─┐┌─┴─┐└───┘┌─┴─┐          \n",
      "q_2: ┤ H ├──■──┤ X ├┤ X ├─────┤ X ├──────────\n",
      "     └───┘     └───┘└───┘     └───┘          \n"
     ]
    }
   ],
   "source": [
    "import random\n",
    "from qiskit import QuantumCircuit\n",
    "\n",
    "def random_circuit(num_qubits, k):\n",
    "        qc = QuantumCircuit(num_qubits)\n",
    "        gate_types = ['h', 'x', 'y', 'z', 's', 't']\n",
    "        \n",
    "        for _ in range(k):\n",
    "                # Add a random single-qubit gate\n",
    "                gate = random.choice(gate_types)\n",
    "                qubit = random.randint(0, num_qubits - 1)\n",
    "                getattr(qc, gate)(qubit)\n",
    "                \n",
    "                # Add a CNOT gate\n",
    "                control_qubit = random.randint(0, num_qubits - 1)\n",
    "                target_qubit = random.randint(0, num_qubits - 1)\n",
    "                while target_qubit == control_qubit:\n",
    "                        target_qubit = random.randint(0, num_qubits - 1)\n",
    "                qc.cx(control_qubit, target_qubit)\n",
    "        \n",
    "        return qc\n",
    "\n",
    "# Example usage\n",
    "num_qubits = 3\n",
    "k = 5\n",
    "qc = random_circuit(num_qubits, k)\n",
    "print(qc)"
   ]
  },
  {
   "cell_type": "code",
   "execution_count": null,
   "metadata": {},
   "outputs": [
    {
     "data": {
      "text/plain": [
       "1"
      ]
     },
     "execution_count": 31,
     "metadata": {},
     "output_type": "execute_result"
    }
   ],
   "source": []
  }
 ],
 "metadata": {
  "kernelspec": {
   "display_name": "Python 3",
   "language": "python",
   "name": "python3"
  },
  "language_info": {
   "codemirror_mode": {
    "name": "ipython",
    "version": 3
   },
   "file_extension": ".py",
   "mimetype": "text/x-python",
   "name": "python",
   "nbconvert_exporter": "python",
   "pygments_lexer": "ipython3",
   "version": "3.11.5"
  }
 },
 "nbformat": 4,
 "nbformat_minor": 2
}
