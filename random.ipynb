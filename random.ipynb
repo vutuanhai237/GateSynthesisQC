{
 "cells": [
  {
   "cell_type": "markdown",
   "metadata": {},
   "source": [
    "### Theoretical limit"
   ]
  },
  {
   "cell_type": "code",
   "execution_count": 20,
   "metadata": {},
   "outputs": [
    {
     "data": {
      "text/plain": [
       "100.0"
      ]
     },
     "execution_count": 20,
     "metadata": {},
     "output_type": "execute_result"
    }
   ],
   "source": [
    "def theory_limit(n):\n",
    "    return 1/4*(4**n-3*n-1)\n",
    "def qsd_limit(n):\n",
    "    return 23/48*(4**n)-3/2*(2**n)+4/3\n",
    "qsd_limit(4)"
   ]
  },
  {
   "cell_type": "markdown",
   "metadata": {},
   "source": [
    "### Cost function"
   ]
  },
  {
   "cell_type": "code",
   "execution_count": 21,
   "metadata": {},
   "outputs": [
    {
     "name": "stdout",
     "output_type": "stream",
     "text": [
      "3.719329833984375e-05\n"
     ]
    }
   ],
   "source": [
    "import numpy as np\n",
    "import scipy\n",
    "def c_hst(U,V):\n",
    "    d = U.shape[0]\n",
    "    return 1 - 1/(d**2)*(np.abs(np.trace(np.conjugate(np.transpose(V))@U)))**2\n",
    "def f_hat(U,V):\n",
    "    d = U.shape[0]\n",
    "    return 1 - d/(d + 1) * c_hst(U,V)\n",
    "def frobenius(U,V):\n",
    "    return 1/2*np.linalg.norm(V - U,'fro')\n",
    "def frobenius_fidelity(U,V):\n",
    "    d = U.shape[0]\n",
    "    return 1 - d/(d + 1) + 1/(d*(d+1))*(d - frobenius(U,V))**2\n",
    "\n",
    "u = np.random.rand(8, 8)\n",
    "q, r = np.linalg.qr(u)\n",
    "import time\n",
    "start = time.time()\n",
    "(frobenius_fidelity(q,q))\n",
    "end = time.time()\n",
    "print(end - start)"
   ]
  },
  {
   "cell_type": "markdown",
   "metadata": {},
   "source": [
    "### Circuit"
   ]
  },
  {
   "cell_type": "code",
   "execution_count": 22,
   "metadata": {},
   "outputs": [],
   "source": [
    "import qiskit\n",
    "from qiskit.quantum_info import Operator\n",
    "\n",
    "def mcx_gate(num_qubits):\n",
    "    mcx_gate = qiskit.circuit.library.MCXGate(num_qubits - 1)\n",
    "    return np.real(Operator(mcx_gate).data)\n",
    "\n",
    "def U3cry(num_qubits: int, num_layers: int, thetas: qiskit.circuit.ParameterVector, active_gates: np.ndarray) -> tuple[qiskit.QuantumCircuit, np.ndarray]:\n",
    "    qc = qiskit.QuantumCircuit(num_qubits)\n",
    "    k = 0\n",
    "    index_params = 0\n",
    "    for _ in range(num_layers):\n",
    "        for i in range(num_qubits):\n",
    "            for j in range(i + 1, num_qubits):\n",
    "                if active_gates[k] == 1:\n",
    "                    qc.u(thetas[index_params],thetas[index_params + 1],thetas[index_params + 2],i)\n",
    "                    index_params += 3\n",
    "                if active_gates[k + 1] == 1:\n",
    "                    qc.u(thetas[index_params],thetas[index_params + 1],thetas[index_params + 2],j)\n",
    "                    index_params += 3\n",
    "                if active_gates[k + 2] == 1:\n",
    "                    qc.cry(thetas[index_params], j, i)\n",
    "                    index_params += 1\n",
    "                k += 3\n",
    "                qc.barrier()\n",
    "    return qc, qiskit.quantum_info.Operator(qc).data # .draw('mpl')"
   ]
  },
  {
   "cell_type": "code",
   "execution_count": 32,
   "metadata": {},
   "outputs": [
    {
     "name": "stdout",
     "output_type": "stream",
     "text": [
      "The autoreload extension is already loaded. To reload it, use:\n",
      "  %reload_ext autoreload\n"
     ]
    }
   ],
   "source": [
    "import qiskit\n",
    "import qiskit.quantum_info\n",
    "from qoop.core.optimizer import adam\n",
    "%load_ext autoreload\n",
    "%autoreload 2\n",
    "import constant\n",
    "def num_params_on_active_gates(active_gates):\n",
    "    num_params = 0\n",
    "    for i in range(0, len(active_gates), 3):\n",
    "        num_params += (active_gates[i] + active_gates[i+1]) * 3\n",
    "        num_params += active_gates[i + 2] * 1\n",
    "    return int(num_params)\n",
    "def target_func(num_qubits, num_layers, active_gates):\n",
    "    \n",
    "    thetas = np.ones(num_params_on_active_gates(active_gates))\n",
    "    costs, thetass = [], []\n",
    "    def objective(thetas):\n",
    "        _, U = U3cry(num_qubits, num_layers, thetas, active_gates)\n",
    "        return c_hst(U, mcx_gate(num_qubits))\n",
    "    for iter in range(constant.num_iterations):\n",
    "        cost = objective(thetas)\n",
    "        if cost < constant.error:\n",
    "            break\n",
    "        costs.append(cost)\n",
    "        thetass.append(thetas)\n",
    "        grad = np.zeros(len(thetas))\n",
    "        for j in range(0, len(thetas)):\n",
    "            thetas_plus = thetas.copy()\n",
    "            thetas_plus[j] += constant.shift\n",
    "            thetas_minus = thetas.copy()\n",
    "            thetas_minus[j] -= constant.shift\n",
    "            grad[j] = (objective(thetas_plus) - objective(thetas_minus))/(2*constant.shift)\n",
    "        if iter == 0:\n",
    "            m, v1 = list(np.zeros(thetas.shape[0])), list(\n",
    "                np.zeros(thetas.shape[0]))\n",
    "        thetas = adam(thetas, m, v1, iter, grad)\n",
    "    return costs, thetass"
   ]
  },
  {
   "cell_type": "code",
   "execution_count": 31,
   "metadata": {},
   "outputs": [
    {
     "name": "stdout",
     "output_type": "stream",
     "text": [
      "0.961869597317977\n",
      "0.9619703072374198\n",
      "0.8664134696234569\n",
      "0.7937142592355811\n",
      "0.7649539481625878\n",
      "0.7061063782060529\n",
      "0.620204846886385\n",
      "0.5401844064815499\n",
      "0.47251451351046003\n",
      "0.3967714510601926\n",
      "0.3060189473229268\n",
      "0.23389946379288806\n",
      "0.17696252111979416\n",
      "0.1515190595602275\n",
      "0.1268928308171008\n",
      "0.10027318987128653\n",
      "0.07962987922825582\n",
      "0.06692233713108231\n",
      "0.05830129043034171\n",
      "0.052578987316757586\n",
      "0.04816718231167383\n",
      "0.042788684515965625\n",
      "0.037948792340395276\n",
      "0.03248635709585257\n",
      "0.03189635980076211\n",
      "0.030702647229791102\n",
      "0.02634883764527607\n",
      "0.02018152515869609\n",
      "0.024172957662183192\n",
      "0.02935419019975971\n",
      "0.020206672210610566\n",
      "0.012020636299424292\n",
      "0.020701556378319497\n",
      "0.038451898663329875\n",
      "0.04426967072393684\n",
      "0.019028141361797757\n",
      "0.012924859660409238\n",
      "0.025394033340859212\n",
      "0.011952333157332018\n",
      "0.007861154444156027\n",
      "0.01607035000660406\n",
      "0.008776825742232708\n",
      "0.006312699761501617\n",
      "0.009836911490480493\n",
      "0.0065467710700098936\n",
      "0.005622721021811938\n",
      "0.0066994663983306335\n",
      "0.004583978809423628\n",
      "0.004091251540183194\n",
      "0.005164159088364539\n",
      "0.004326976511700997\n",
      "0.0033699135311471284\n",
      "0.0035913615700268187\n",
      "0.0034630253573006975\n",
      "0.0029010420537818327\n",
      "0.00285926982834539\n",
      "0.0030835192119123\n",
      "0.0030915953213666025\n",
      "0.003374589297042929\n",
      "0.005119729422602748\n",
      "0.010733532002371815\n",
      "0.023669029599718616\n",
      "0.035390233171999075\n",
      "0.022547611212776597\n",
      "0.010909548353172482\n",
      "0.024380626670075234\n",
      "0.025773752888798795\n",
      "0.010753646416728713\n",
      "0.006638155887828123\n",
      "0.00817740069934736\n",
      "0.006124874235147737\n",
      "0.007145670679296612\n",
      "0.007265834131542026\n",
      "0.003072393410746277\n",
      "0.00207150643419729\n",
      "0.003973841219820251\n",
      "0.0036457644448717463\n",
      "0.002598817031109646\n",
      "0.0025491793080428815\n",
      "0.0020321779371282878\n",
      "0.0013750519462804034\n",
      "0.0017428841778027726\n",
      "0.0023497606737968857\n",
      "0.002494777966371986\n",
      "0.002994156981463769\n",
      "0.004768327273063977\n",
      "0.008527762871289202\n",
      "0.015190207174316628\n",
      "0.02305838918328662\n",
      "0.02374462872349825\n",
      "0.012452780358694682\n",
      "0.0019703064529802417\n",
      "0.002595290542834583\n",
      "0.007930932597318918\n",
      "0.008046543447278176\n",
      "0.003348402550995333\n",
      "0.001061469413942473\n",
      "0.002815051123237877\n",
      "0.004503648691137618\n",
      "0.003954626444463982\n"
     ]
    }
   ],
   "source": [
    "num_qubits = 3\n",
    "num_layers = 5\n",
    "active_gates = np.ones(3 * (num_qubits*(num_qubits-1)//2) * num_layers) # num_blocks = num_qubits*(num_qubits-1)//2\n",
    "costs, _ = target_func(num_qubits, num_layers, active_gates)\n"
   ]
  },
  {
   "cell_type": "code",
   "execution_count": 25,
   "metadata": {},
   "outputs": [
    {
     "name": "stdout",
     "output_type": "stream",
     "text": [
      "0.961869597317977\n"
     ]
    },
    {
     "data": {
      "text/plain": [
       "[<matplotlib.lines.Line2D at 0x147e8d5d0>]"
      ]
     },
     "execution_count": 25,
     "metadata": {},
     "output_type": "execute_result"
    },
    {
     "data": {
      "image/png": "[encoded data removed]",
      "text/plain": [
       "<Figure size 640x480 with 1 Axes>"
      ]
     },
     "metadata": {},
     "output_type": "display_data"
    }
   ],
   "source": [
    "import matplotlib.pyplot as plt\n",
    "print(costs[-1])\n",
    "plt.plot(costs)"
   ]
  },
  {
   "cell_type": "code",
   "execution_count": 26,
   "metadata": {},
   "outputs": [
    {
     "name": "stdout",
     "output_type": "stream",
     "text": [
      "18\n",
      "40\n"
     ]
    },
    {
     "data": {
      "image/png": "[encoded data removed]",
      "text/plain": [
       "<Figure size 1458.05x367.889 with 1 Axes>"
      ]
     },
     "execution_count": 26,
     "metadata": {},
     "output_type": "execute_result"
    }
   ],
   "source": [
    "import qiskit\n",
    "num_qubits = 4\n",
    "num_layers = 1\n",
    "num_blocks = num_qubits*(num_qubits-1)//2\n",
    "active_gates = np.ones(3*num_blocks*num_layers)\n",
    "active_gates[2] = 0\n",
    "active_gates[5] = 0\n",
    "thetas = np.ones(num_params_on_active_gates(active_gates))\n",
    "print(len(active_gates))\n",
    "print(len(thetas))\n",
    "qc_x, _ = U3cry(num_qubits, num_layers, thetas, active_gates)\n",
    "qc_excipilit = qiskit.transpile(qc_x, basis_gates=['u3','cry'], optimization_level=1)\n",
    "qc_excipilit.draw('mpl')"
   ]
  }
 ],
 "metadata": {
  "kernelspec": {
   "display_name": "Python 3",
   "language": "python",
   "name": "python3"
  },
  "language_info": {
   "codemirror_mode": {
    "name": "ipython",
    "version": 3
   },
   "file_extension": ".py",
   "mimetype": "text/x-python",
   "name": "python",
   "nbconvert_exporter": "python",
   "pygments_lexer": "ipython3",
   "version": "3.11.5"
  }
 },
 "nbformat": 4,
 "nbformat_minor": 2
}
