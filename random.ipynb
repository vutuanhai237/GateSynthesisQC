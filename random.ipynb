{
 "cells": [
  {
   "cell_type": "markdown",
   "metadata": {},
   "source": [
    "### Theoretical limit"
   ]
  },
  {
   "cell_type": "code",
   "execution_count": 20,
   "metadata": {},
   "outputs": [
    {
     "data": {
      "text/plain": [
       "100.0"
      ]
     },
     "execution_count": 20,
     "metadata": {},
     "output_type": "execute_result"
    }
   ],
   "source": [
    "def theory_limit(n):\n",
    "    return 1/4*(4**n-3*n-1)\n",
    "def qsd_limit(n):\n",
    "    return 23/48*(4**n)-3/2*(2**n)+4/3\n",
    "qsd_limit(4)"
   ]
  },
  {
   "cell_type": "markdown",
   "metadata": {},
   "source": [
    "### Cost function"
   ]
  },
  {
   "cell_type": "code",
   "execution_count": 21,
   "metadata": {},
   "outputs": [
    {
     "name": "stdout",
     "output_type": "stream",
     "text": [
      "3.719329833984375e-05\n"
     ]
    }
   ],
   "source": [
    "import numpy as np\n",
    "import scipy\n",
    "def c_hst(U,V):\n",
    "    d = U.shape[0]\n",
    "    return 1 - 1/(d**2)*(np.abs(np.trace(np.conjugate(np.transpose(V))@U)))**2\n",
    "def f_hat(U,V):\n",
    "    d = U.shape[0]\n",
    "    return 1 - d/(d + 1) * c_hst(U,V)\n",
    "def frobenius(U,V):\n",
    "    return 1/2*np.linalg.norm(V - U,'fro')\n",
    "def frobenius_fidelity(U,V):\n",
    "    d = U.shape[0]\n",
    "    return 1 - d/(d + 1) + 1/(d*(d+1))*(d - frobenius(U,V))**2\n",
    "\n",
    "u = np.random.rand(8, 8)\n",
    "q, r = np.linalg.qr(u)\n",
    "import time\n",
    "start = time.time()\n",
    "(frobenius_fidelity(q,q))\n",
    "end = time.time()\n",
    "print(end - start)"
   ]
  },
  {
   "cell_type": "markdown",
   "metadata": {},
   "source": [
    "### Circuit"
   ]
  },
  {
   "cell_type": "code",
   "execution_count": 50,
   "metadata": {},
   "outputs": [],
   "source": [
    "import qiskit\n",
    "from qiskit.quantum_info import Operator\n",
    "\n",
    "def mcx_gate(num_qubits):\n",
    "    mcx_gate = qiskit.circuit.library.MCXGate(num_qubits - 1)\n",
    "    return np.real(Operator(mcx_gate).data)\n",
    "\n",
    "def U3cry(num_qubits: int, num_layers: int, thetas: qiskit.circuit.ParameterVector, active_blocks: np.ndarray) -> tuple[qiskit.QuantumCircuit, np.ndarray]:\n",
    "    qc = qiskit.QuantumCircuit(num_qubits)\n",
    "    k = 0\n",
    "    index_params = 0\n",
    "    for _ in range(num_layers):\n",
    "        for i in range(num_qubits):\n",
    "            for j in range(i + 1, num_qubits):\n",
    "                if active_blocks[k] == 1:\n",
    "                    qc.u(thetas[index_params],thetas[index_params + 1],thetas[index_params + 2],i)\n",
    "                    qc.u(thetas[index_params],thetas[index_params + 1],thetas[index_params + 2],j)\n",
    "                    qc.cry(thetas[index_params], j, i)\n",
    "                    index_params += 7\n",
    "                k += 1\n",
    "                qc.barrier()\n",
    "    return qc, qiskit.quantum_info.Operator(qc).data # .draw('mpl')"
   ]
  },
  {
   "cell_type": "code",
   "execution_count": 52,
   "metadata": {},
   "outputs": [
    {
     "name": "stdout",
     "output_type": "stream",
     "text": [
      "The autoreload extension is already loaded. To reload it, use:\n",
      "  %reload_ext autoreload\n"
     ]
    }
   ],
   "source": [
    "import qiskit\n",
    "import qiskit.quantum_info\n",
    "from qoop.core.optimizer import adam\n",
    "%load_ext autoreload\n",
    "%autoreload 2\n",
    "import constant\n",
    "def num_params_on_active_gates(active_gates):\n",
    "    num_params = 0\n",
    "    for i in range(0, len(active_gates), 3):\n",
    "        num_params += (active_gates[i] + active_gates[i+1]) * 3\n",
    "        num_params += active_gates[i + 2] * 1\n",
    "    return int(num_params)\n",
    "\n",
    "def num_params_on_active_blocks(active_blocks):\n",
    "    num_params = 0\n",
    "    for _ in range(0, len(active_blocks)):\n",
    "        num_params += 7\n",
    "    return int(num_params)\n",
    "\n",
    "def target_func(num_qubits, num_layers, active_blocks):\n",
    "    \n",
    "    thetas = np.ones(num_params_on_active_blocks(active_blocks))\n",
    "    costs, thetass = [], []\n",
    "    def objective(thetas):\n",
    "        _, U = U3cry(num_qubits, num_layers, thetas, active_blocks)\n",
    "        return c_hst(U, mcx_gate(num_qubits))\n",
    "    for iter in range(constant.num_iterations):\n",
    "        cost = objective(thetas)\n",
    "        costs.append(cost)\n",
    "        if cost < constant.error:\n",
    "            print('Converged')\n",
    "            break\n",
    "        thetass.append(thetas)\n",
    "        grad = np.zeros(len(thetas))\n",
    "        for j in range(0, len(thetas)):\n",
    "            thetas_plus = thetas.copy()\n",
    "            thetas_plus[j] += constant.shift\n",
    "            thetas_minus = thetas.copy()\n",
    "            thetas_minus[j] -= constant.shift\n",
    "            grad[j] = (objective(thetas_plus) - objective(thetas_minus))/(2*constant.shift)\n",
    "        if iter == 0:\n",
    "            m, v1 = list(np.zeros(thetas.shape[0])), list(\n",
    "                np.zeros(thetas.shape[0]))\n",
    "        thetas = adam(thetas, m, v1, iter, grad)\n",
    "    return costs, thetass"
   ]
  },
  {
   "cell_type": "code",
   "execution_count": 53,
   "metadata": {},
   "outputs": [
    {
     "name": "stdout",
     "output_type": "stream",
     "text": [
      "0.282163461463769\n"
     ]
    }
   ],
   "source": [
    "num_qubits = 3\n",
    "num_layers = 3\n",
    "active_blocks = np.ones((num_qubits*(num_qubits-1)//2) * num_layers) # num_blocks = num_qubits*(num_qubits-1)//2\n",
    "active_blocks[2] = 0\n",
    "costs, _ = target_func(num_qubits, num_layers, active_blocks)\n",
    "print(costs[-1])"
   ]
  },
  {
   "cell_type": "code",
   "execution_count": 54,
   "metadata": {},
   "outputs": [
    {
     "name": "stdout",
     "output_type": "stream",
     "text": [
      "0.282163461463769\n"
     ]
    },
    {
     "data": {
      "text/plain": [
       "[<matplotlib.lines.Line2D at 0x147d6de50>]"
      ]
     },
     "execution_count": 54,
     "metadata": {},
     "output_type": "execute_result"
    },
    {
     "data": {
      "image/png": "[encoded data removed]",
      "text/plain": [
       "<Figure size 640x480 with 1 Axes>"
      ]
     },
     "metadata": {},
     "output_type": "display_data"
    }
   ],
   "source": [
    "import matplotlib.pyplot as plt\n",
    "print(costs[-1])\n",
    "plt.plot(costs)"
   ]
  },
  {
   "cell_type": "code",
   "execution_count": 26,
   "metadata": {},
   "outputs": [
    {
     "name": "stdout",
     "output_type": "stream",
     "text": [
      "18\n",
      "40\n"
     ]
    },
    {
     "data": {
      "image/png": "[encoded data removed]",
      "text/plain": [
       "<Figure size 1458.05x367.889 with 1 Axes>"
      ]
     },
     "execution_count": 26,
     "metadata": {},
     "output_type": "execute_result"
    }
   ],
   "source": [
    "import qiskit\n",
    "num_qubits = 4\n",
    "num_layers = 1\n",
    "num_blocks = num_qubits*(num_qubits-1)//2\n",
    "active_gates = np.ones(3*num_blocks*num_layers)\n",
    "active_gates[2] = 0\n",
    "active_gates[5] = 0\n",
    "thetas = np.ones(num_params_on_active_gates(active_gates))\n",
    "print(len(active_gates))\n",
    "print(len(thetas))\n",
    "qc_x, _ = U3cry(num_qubits, num_layers, thetas, active_gates)\n",
    "qc_excipilit = qiskit.transpile(qc_x, basis_gates=['u3','cry'], optimization_level=1)\n",
    "qc_excipilit.draw('mpl')"
   ]
  },
  {
   "cell_type": "code",
   "execution_count": 66,
   "metadata": {},
   "outputs": [
    {
     "name": "stdout",
     "output_type": "stream",
     "text": [
      "False\n",
      "[0. 1. 1. 1. 1. 1. 1. 1. 1.]\n",
      "False\n",
      "[1. 0. 1. 1. 1. 1. 1. 1. 1.]\n",
      "True\n",
      "[1. 1. 0. 1. 1. 1. 1. 1. 1.]\n",
      "True\n",
      "[1. 1. 0. 0. 1. 1. 1. 1. 1.]\n",
      "True\n",
      "[1. 1. 0. 0. 0. 1. 1. 1. 1.]\n",
      "False\n",
      "[1. 1. 0. 0. 0. 0. 1. 1. 1.]\n",
      "True\n",
      "[1. 1. 0. 0. 0. 1. 0. 1. 1.]\n",
      "True\n",
      "[1. 1. 0. 0. 0. 1. 0. 0. 1.]\n",
      "True\n",
      "[1. 1. 0. 0. 0. 1. 0. 0. 0.]\n",
      "True\n",
      "[0. 1. 0. 0. 0. 1. 0. 0. 0.]\n",
      "True\n",
      "[0. 0. 0. 0. 0. 1. 0. 0. 0.]\n",
      "False\n",
      "[0. 0. 0. 0. 0. 0. 0. 0. 0.]\n",
      "False\n",
      "[0. 0. 0. 0. 0. 0. 0. 0. 0.]\n",
      "False\n",
      "[0. 0. 0. 0. 0. 0. 0. 0. 0.]\n",
      "False\n",
      "[0. 0. 0. 0. 0. 0. 0. 0. 0.]\n",
      "False\n",
      "[0. 0. 0. 0. 0. 0. 0. 0. 0.]\n",
      "False\n",
      "[0. 0. 0. 0. 0. 0. 0. 0. 0.]\n",
      "False\n",
      "[0. 0. 0. 0. 0. 0. 0. 0. 0.]\n",
      "False\n",
      "[0. 0. 0. 0. 0. 0. 0. 0. 0.]\n",
      "[0. 0. 0. 0. 0. 1. 0. 0. 0.]\n"
     ]
    }
   ],
   "source": [
    "num_qubits = 3\n",
    "num_layers = 3\n",
    "active_blocks = np.ones((num_qubits*(num_qubits-1)//2) * num_layers) # num_blocks = num_qubits*(num_qubits-1)//2\n",
    "def check(xs):\n",
    "    costs, _ = target_func(num_qubits, num_layers, active_blocks)\n",
    "    if costs[-1] < constant.error:\n",
    "        return True\n",
    "    return False\n",
    "    # return xs[2] == 0 and xs[5] == 1\n",
    "for i in range(len(active_blocks)):\n",
    "    for j in range(len(active_blocks)):\n",
    "        if active_blocks[j] == 1:\n",
    "            active_blocks[j] = 0\n",
    "            print(check(active_blocks))\n",
    "            print(active_blocks)\n",
    "            if check(active_blocks) == False:\n",
    "                active_blocks[j] = 1\n",
    "            \n",
    "print(active_blocks)"
   ]
  }
 ],
 "metadata": {
  "kernelspec": {
   "display_name": "Python 3",
   "language": "python",
   "name": "python3"
  },
  "language_info": {
   "codemirror_mode": {
    "name": "ipython",
    "version": 3
   },
   "file_extension": ".py",
   "mimetype": "text/x-python",
   "name": "python",
   "nbconvert_exporter": "python",
   "pygments_lexer": "ipython3",
   "version": "3.11.5"
  }
 },
 "nbformat": 4,
 "nbformat_minor": 2
}
