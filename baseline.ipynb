{
 "cells": [
  {
   "cell_type": "code",
   "execution_count": 2,
   "metadata": {},
   "outputs": [],
   "source": [
    "import pennylane as qml\n",
    "from qiskit.quantum_info import random_unitary\n",
    "from qiskit.circuit.library import UnitaryGate\n",
    "from sync import cost as cost_func\n",
    "from sync import circuit, constant\n",
    "import pennylane.numpy as np\n",
    "import pennylane as qml\n",
    "%load_ext autoreload\n",
    "%autoreload 2\n"
   ]
  },
  {
   "cell_type": "code",
   "execution_count": 6,
   "metadata": {},
   "outputs": [],
   "source": [
    "num_qubits = 3\n",
    "num_layers = 5\n",
    "num_blocks = num_qubits*(num_qubits-1)//2\n",
    "active_blocks = np.ones(num_blocks * num_layers)\n",
    "thetas = np.random.uniform(0, 2*np.pi, constant.num_params_on_active_blocks(active_blocks), requires_grad=True)\n",
    "\n",
    "def u3cry(thetas):\n",
    "    k, index_params = 0, 0\n",
    "    for _ in range(num_layers):\n",
    "        for i in range(num_qubits):\n",
    "            for j in range(i + 1, num_qubits):\n",
    "                if active_blocks[k] == 1:\n",
    "                    qml.U3(thetas[index_params],thetas[index_params + 1],thetas[index_params + 2],i)\n",
    "                    qml.U3(thetas[index_params + 3],thetas[index_params + 4],thetas[index_params + 5],j)\n",
    "                    qml.CNOT([j, i])\n",
    "                    index_params += 6\n",
    "                k += 1\n",
    "\n",
    "target = UnitaryGate(random_unitary(2**num_qubits))\n",
    "def cost(thetas):\n",
    "    matrix = qml.matrix(u3cry, wire_order=list(range(num_qubits)))(thetas)\n",
    "    return cost_func.c_hst(matrix, target)\n",
    "\n",
    "steps = 1000\n",
    "costs = []\n",
    "opt = qml.AdamOptimizer(stepsize = 0.01)\n",
    "for n in range(steps):\n",
    "    thetas, prev_cost = opt.step_and_cost(cost, thetas)\n",
    "    if prev_cost < constant.error:\n",
    "        print(\"Achieved error threshold at step\", n)\n",
    "        break\n",
    "    costs.append(prev_cost)\n",
    "\n",
    "# grad_fn = qml.grad(func = cost)\n",
    "# for i in range(steps):\n",
    "# \tgradient = grad_fn(thetas)\n",
    "# \tthetas = thetas - 0.1 * gradient\n",
    "# \tcosts.append(cost(thetas))"
   ]
  },
  {
   "cell_type": "code",
   "execution_count": 7,
   "metadata": {},
   "outputs": [
    {
     "data": {
      "text/plain": [
       "[<matplotlib.lines.Line2D at 0x169557e1150>]"
      ]
     },
     "execution_count": 7,
     "metadata": {},
     "output_type": "execute_result"
    },
    {
     "data": {
      "image/png": "[encoded data removed]",
      "text/plain": [
       "<Figure size 640x480 with 1 Axes>"
      ]
     },
     "metadata": {},
     "output_type": "display_data"
    }
   ],
   "source": [
    "import matplotlib.pyplot as plt\n",
    "plt.plot(costs)"
   ]
  },
  {
   "cell_type": "code",
   "execution_count": 8,
   "metadata": {},
   "outputs": [
    {
     "data": {
      "text/plain": [
       "tensor(6.17410946e-05, requires_grad=True)"
      ]
     },
     "execution_count": 8,
     "metadata": {},
     "output_type": "execute_result"
    }
   ],
   "source": [
    "costs[-1]"
   ]
  }
 ],
 "metadata": {
  "kernelspec": {
   "display_name": "Python 3",
   "language": "python",
   "name": "python3"
  },
  "language_info": {
   "codemirror_mode": {
    "name": "ipython",
    "version": 3
   },
   "file_extension": ".py",
   "mimetype": "text/x-python",
   "name": "python",
   "nbconvert_exporter": "python",
   "pygments_lexer": "ipython3",
   "version": "3.10.11"
  }
 },
 "nbformat": 4,
 "nbformat_minor": 2
}
