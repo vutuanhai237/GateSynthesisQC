{
 "cells": [
  {
   "cell_type": "code",
   "execution_count": null,
   "metadata": {},
   "outputs": [
    {
     "name": "stdout",
     "output_type": "stream",
     "text": [
      "Initialize list of circuit ...\n",
      "Start evol progress ...\n",
      "Running at generation 1\n",
      "[0.08441985555118314, 0.18230906971948646, 0.1750276419554685, 0.2468473433498618]\n",
      "Saving circuit ...\n",
      "Saving circuit ...\n",
      "Running at generation 2\n",
      "[0.2468473433498618, 0.18230906971948646, 0.23922283460346283, 0.24804926014314266]\n",
      "Saving circuit ...\n",
      "Saving circuit ...\n",
      "Running at generation 3\n",
      "[0.24804926014314266, 0.2468473433498618, 0.24804926014314266, 0.23498586732331395]\n",
      "Saving circuit ...\n",
      "Saving circuit ...\n",
      "End evol progress, best score ever: 0.24804926014314266\n"
     ]
    }
   ],
   "source": [
    "import qiskit\n",
    "from qoop.core import state, metric, ansatz\n",
    "from qoop.compilation.qsp import QuantumStatePreparation\n",
    "from qoop.evolution.environment_compilation import MetadataCompilation\n",
    "from qoop.evolution.environment import EEnvironment\n",
    "from qoop.evolution import crossover, divider, normalizer\n",
    "%load_ext autoreload\n",
    "%autoreload 2\n",
    "def fitnessW(qc: qiskit.QuantumCircuit):\n",
    "    qsp = QuantumStatePreparation(\n",
    "        u = qc,\n",
    "        target_state = state.w(num_qubits = 3).inverse()\n",
    "    ).fit(num_steps = 100)\n",
    "    return 1 - qsp.compiler.metrics['loss_fubini_study'][-1] # Fitness value\n",
    "\n",
    "env_metadata = MetadataCompilation(\n",
    "        num_qubits = 3, # As its name\n",
    "        depth = 4, # Ansatz depth you want\n",
    "        num_circuit = 4, # Number of ansatz per generation\n",
    "        num_generation = 3, # Number of generation/iteration for GA \n",
    "        prob_mutate = 0.01 # Mutation probability, usually as small as 0.01 (1%)\n",
    ")\n",
    "\n",
    "env = EEnvironment(\n",
    "    metadata = env_metadata,\n",
    "    fitness_func = fitnessW,\n",
    "    crossover_func= crossover.onepoint(divider.by_depth(2), normalizer.by_depth(4))\n",
    ").evol()"
   ]
  }
 ],
 "metadata": {
  "kernelspec": {
   "display_name": "Python 3",
   "language": "python",
   "name": "python3"
  },
  "language_info": {
   "codemirror_mode": {
    "name": "ipython",
    "version": 3
   },
   "file_extension": ".py",
   "mimetype": "text/x-python",
   "name": "python",
   "nbconvert_exporter": "python",
   "pygments_lexer": "ipython3",
   "version": "3.11.5"
  }
 },
 "nbformat": 4,
 "nbformat_minor": 2
}
